{
 "cells": [
  {
   "cell_type": "code",
   "execution_count": 47,
   "id": "extra-greenhouse",
   "metadata": {},
   "outputs": [],
   "source": [
    "import re\n",
    "import os\n",
    "import pickle\n",
    "import pandas as pd\n",
    "from sklearn.preprocessing import StandardScaler\n",
    "from urllib.parse import urlparse"
   ]
  },
  {
   "cell_type": "code",
   "execution_count": 26,
   "id": "answering-fitting",
   "metadata": {},
   "outputs": [
    {
     "data": {
      "text/plain": [
       "15"
      ]
     },
     "execution_count": 26,
     "metadata": {},
     "output_type": "execute_result"
    }
   ],
   "source": [
    "len(re.findall(\"(\\d)\",\"https://finance.sina.com.cn/stock/kechuangban/zcfx/2021-03-16/doc-ikkntiam2634520.shtm\"))"
   ]
  },
  {
   "cell_type": "code",
   "execution_count": 48,
   "id": "faced-cleanup",
   "metadata": {},
   "outputs": [],
   "source": [
    "def build_features(df, load_scaler_from_file=False):\n",
    "    processed_features = df[[\"url\"]].copy()\n",
    "    processed_features[\"path\"] = processed_features[\"url\"].map(\n",
    "        lambda x: urlparse(x).path + urlparse(x).params + urlparse(x).query + urlparse(x).fragment)\n",
    "    processed_features[\"path_len\"] = processed_features[\"path\"].map(\n",
    "        lambda x: len(x))\n",
    "    processed_features[\"num_hyphen\"] = processed_features[\"path\"].map(\n",
    "        lambda x: x.count(\"-\"))\n",
    "    processed_features[\"num_slash\"] = processed_features[\"path\"].map(\n",
    "        lambda x: x.rstrip(\"/\").count(\"/\"))\n",
    "    processed_features[\"num_number\"] = processed_features[\"path\"].map(\n",
    "        lambda x: len(re.findall(\"(\\d)\",x)))\n",
    "    cols_to_drop = ['url', 'path']\n",
    "\n",
    "    processed_features.drop(cols_to_drop, axis=1, inplace=True)\n",
    "    scaled_features = processed_features.copy()\n",
    "    features = scaled_features[[\"path_len\",\"num_hyphen\",\"num_slash\",\"num_number\"]]\n",
    "    scaler_filename = 'StandardScaler.est'\n",
    "    if load_scaler_from_file and os.path.isfile(scaler_filename):\n",
    "        scaler = pickle.load(open(scaler_filename, 'rb'))\n",
    "    else:\n",
    "        scaler = StandardScaler()\n",
    "        scaler = StandardScaler().fit(features.values)\n",
    "        pickle.dump(scaler, open(scaler_filename, 'wb'))\n",
    "\n",
    "    features = scaler.transform(features.values)\n",
    "    scaled_features[[\"path_len\",\"num_hyphen\",\"num_slash\",\"num_number\"]] = features\n",
    "    return scaled_features"
   ]
  },
  {
   "cell_type": "code",
   "execution_count": 49,
   "id": "level-agenda",
   "metadata": {},
   "outputs": [],
   "source": [
    "links_df = pd.read_csv(\"links.csv\")"
   ]
  },
  {
   "cell_type": "code",
   "execution_count": 50,
   "id": "latin-shuttle",
   "metadata": {},
   "outputs": [
    {
     "data": {
      "text/html": [
       "<div>\n",
       "<style scoped>\n",
       "    .dataframe tbody tr th:only-of-type {\n",
       "        vertical-align: middle;\n",
       "    }\n",
       "\n",
       "    .dataframe tbody tr th {\n",
       "        vertical-align: top;\n",
       "    }\n",
       "\n",
       "    .dataframe thead th {\n",
       "        text-align: right;\n",
       "    }\n",
       "</style>\n",
       "<table border=\"1\" class=\"dataframe\">\n",
       "  <thead>\n",
       "    <tr style=\"text-align: right;\">\n",
       "      <th></th>\n",
       "      <th>url</th>\n",
       "      <th>label</th>\n",
       "    </tr>\n",
       "  </thead>\n",
       "  <tbody>\n",
       "    <tr>\n",
       "      <th>0</th>\n",
       "      <td>http://stock.cnfol.com</td>\n",
       "      <td>1</td>\n",
       "    </tr>\n",
       "    <tr>\n",
       "      <th>1</th>\n",
       "      <td>http://www.cnfol.com/</td>\n",
       "      <td>1</td>\n",
       "    </tr>\n",
       "    <tr>\n",
       "      <th>2</th>\n",
       "      <td>http://gold.cnfol.com/</td>\n",
       "      <td>1</td>\n",
       "    </tr>\n",
       "    <tr>\n",
       "      <th>3</th>\n",
       "      <td>http://money.cnfol.com/</td>\n",
       "      <td>1</td>\n",
       "    </tr>\n",
       "    <tr>\n",
       "      <th>4</th>\n",
       "      <td>http://video.cnfol.com/</td>\n",
       "      <td>1</td>\n",
       "    </tr>\n",
       "  </tbody>\n",
       "</table>\n",
       "</div>"
      ],
      "text/plain": [
       "                       url  label\n",
       "0   http://stock.cnfol.com      1\n",
       "1    http://www.cnfol.com/      1\n",
       "2   http://gold.cnfol.com/      1\n",
       "3  http://money.cnfol.com/      1\n",
       "4  http://video.cnfol.com/      1"
      ]
     },
     "execution_count": 50,
     "metadata": {},
     "output_type": "execute_result"
    }
   ],
   "source": [
    "links_df.head()"
   ]
  },
  {
   "cell_type": "code",
   "execution_count": 51,
   "id": "configured-genesis",
   "metadata": {},
   "outputs": [],
   "source": [
    "links_sca = build_features(links_df)"
   ]
  },
  {
   "cell_type": "code",
   "execution_count": 52,
   "id": "lucky-needle",
   "metadata": {},
   "outputs": [
    {
     "data": {
      "text/html": [
       "<div>\n",
       "<style scoped>\n",
       "    .dataframe tbody tr th:only-of-type {\n",
       "        vertical-align: middle;\n",
       "    }\n",
       "\n",
       "    .dataframe tbody tr th {\n",
       "        vertical-align: top;\n",
       "    }\n",
       "\n",
       "    .dataframe thead th {\n",
       "        text-align: right;\n",
       "    }\n",
       "</style>\n",
       "<table border=\"1\" class=\"dataframe\">\n",
       "  <thead>\n",
       "    <tr style=\"text-align: right;\">\n",
       "      <th></th>\n",
       "      <th>path_len</th>\n",
       "      <th>num_hyphen</th>\n",
       "      <th>num_slash</th>\n",
       "      <th>num_number</th>\n",
       "    </tr>\n",
       "  </thead>\n",
       "  <tbody>\n",
       "    <tr>\n",
       "      <th>0</th>\n",
       "      <td>-1.297699</td>\n",
       "      <td>-0.236514</td>\n",
       "      <td>-1.468311</td>\n",
       "      <td>-0.973847</td>\n",
       "    </tr>\n",
       "    <tr>\n",
       "      <th>1</th>\n",
       "      <td>-1.245219</td>\n",
       "      <td>-0.236514</td>\n",
       "      <td>-1.468311</td>\n",
       "      <td>-0.973847</td>\n",
       "    </tr>\n",
       "    <tr>\n",
       "      <th>2</th>\n",
       "      <td>-1.245219</td>\n",
       "      <td>-0.236514</td>\n",
       "      <td>-1.468311</td>\n",
       "      <td>-0.973847</td>\n",
       "    </tr>\n",
       "    <tr>\n",
       "      <th>3</th>\n",
       "      <td>-1.245219</td>\n",
       "      <td>-0.236514</td>\n",
       "      <td>-1.468311</td>\n",
       "      <td>-0.973847</td>\n",
       "    </tr>\n",
       "    <tr>\n",
       "      <th>4</th>\n",
       "      <td>-1.245219</td>\n",
       "      <td>-0.236514</td>\n",
       "      <td>-1.468311</td>\n",
       "      <td>-0.973847</td>\n",
       "    </tr>\n",
       "  </tbody>\n",
       "</table>\n",
       "</div>"
      ],
      "text/plain": [
       "   path_len  num_hyphen  num_slash  num_number\n",
       "0 -1.297699   -0.236514  -1.468311   -0.973847\n",
       "1 -1.245219   -0.236514  -1.468311   -0.973847\n",
       "2 -1.245219   -0.236514  -1.468311   -0.973847\n",
       "3 -1.245219   -0.236514  -1.468311   -0.973847\n",
       "4 -1.245219   -0.236514  -1.468311   -0.973847"
      ]
     },
     "execution_count": 52,
     "metadata": {},
     "output_type": "execute_result"
    }
   ],
   "source": [
    "pd.DataFrame(links_sca).head()"
   ]
  },
  {
   "cell_type": "code",
   "execution_count": 56,
   "id": "criminal-martin",
   "metadata": {},
   "outputs": [
    {
     "data": {
      "text/html": [
       "<div>\n",
       "<style scoped>\n",
       "    .dataframe tbody tr th:only-of-type {\n",
       "        vertical-align: middle;\n",
       "    }\n",
       "\n",
       "    .dataframe tbody tr th {\n",
       "        vertical-align: top;\n",
       "    }\n",
       "\n",
       "    .dataframe thead th {\n",
       "        text-align: right;\n",
       "    }\n",
       "</style>\n",
       "<table border=\"1\" class=\"dataframe\">\n",
       "  <thead>\n",
       "    <tr style=\"text-align: right;\">\n",
       "      <th></th>\n",
       "      <th>label</th>\n",
       "    </tr>\n",
       "  </thead>\n",
       "  <tbody>\n",
       "    <tr>\n",
       "      <th>0</th>\n",
       "      <td>1</td>\n",
       "    </tr>\n",
       "    <tr>\n",
       "      <th>1</th>\n",
       "      <td>1</td>\n",
       "    </tr>\n",
       "    <tr>\n",
       "      <th>2</th>\n",
       "      <td>1</td>\n",
       "    </tr>\n",
       "    <tr>\n",
       "      <th>3</th>\n",
       "      <td>1</td>\n",
       "    </tr>\n",
       "    <tr>\n",
       "      <th>4</th>\n",
       "      <td>1</td>\n",
       "    </tr>\n",
       "  </tbody>\n",
       "</table>\n",
       "</div>"
      ],
      "text/plain": [
       "   label\n",
       "0      1\n",
       "1      1\n",
       "2      1\n",
       "3      1\n",
       "4      1"
      ]
     },
     "execution_count": 56,
     "metadata": {},
     "output_type": "execute_result"
    }
   ],
   "source": [
    "output_targets = pd.DataFrame()\n",
    "output_targets[\"label\"] = links_df[\"label\"].astype(int)\n",
    "output_targets.head()"
   ]
  },
  {
   "cell_type": "code",
   "execution_count": 63,
   "id": "stable-balance",
   "metadata": {},
   "outputs": [
    {
     "data": {
      "text/html": [
       "<div>\n",
       "<style scoped>\n",
       "    .dataframe tbody tr th:only-of-type {\n",
       "        vertical-align: middle;\n",
       "    }\n",
       "\n",
       "    .dataframe tbody tr th {\n",
       "        vertical-align: top;\n",
       "    }\n",
       "\n",
       "    .dataframe thead th {\n",
       "        text-align: right;\n",
       "    }\n",
       "</style>\n",
       "<table border=\"1\" class=\"dataframe\">\n",
       "  <thead>\n",
       "    <tr style=\"text-align: right;\">\n",
       "      <th></th>\n",
       "      <th>path_len</th>\n",
       "      <th>num_hyphen</th>\n",
       "      <th>num_slash</th>\n",
       "      <th>num_number</th>\n",
       "      <th>label</th>\n",
       "    </tr>\n",
       "  </thead>\n",
       "  <tbody>\n",
       "    <tr>\n",
       "      <th>0</th>\n",
       "      <td>-1.297699</td>\n",
       "      <td>-0.236514</td>\n",
       "      <td>-1.468311</td>\n",
       "      <td>-0.973847</td>\n",
       "      <td>1</td>\n",
       "    </tr>\n",
       "    <tr>\n",
       "      <th>1</th>\n",
       "      <td>-1.245219</td>\n",
       "      <td>-0.236514</td>\n",
       "      <td>-1.468311</td>\n",
       "      <td>-0.973847</td>\n",
       "      <td>1</td>\n",
       "    </tr>\n",
       "    <tr>\n",
       "      <th>2</th>\n",
       "      <td>-1.245219</td>\n",
       "      <td>-0.236514</td>\n",
       "      <td>-1.468311</td>\n",
       "      <td>-0.973847</td>\n",
       "      <td>1</td>\n",
       "    </tr>\n",
       "    <tr>\n",
       "      <th>3</th>\n",
       "      <td>-1.245219</td>\n",
       "      <td>-0.236514</td>\n",
       "      <td>-1.468311</td>\n",
       "      <td>-0.973847</td>\n",
       "      <td>1</td>\n",
       "    </tr>\n",
       "    <tr>\n",
       "      <th>4</th>\n",
       "      <td>-1.245219</td>\n",
       "      <td>-0.236514</td>\n",
       "      <td>-1.468311</td>\n",
       "      <td>-0.973847</td>\n",
       "      <td>1</td>\n",
       "    </tr>\n",
       "    <tr>\n",
       "      <th>...</th>\n",
       "      <td>...</td>\n",
       "      <td>...</td>\n",
       "      <td>...</td>\n",
       "      <td>...</td>\n",
       "      <td>...</td>\n",
       "    </tr>\n",
       "    <tr>\n",
       "      <th>4432</th>\n",
       "      <td>-0.720414</td>\n",
       "      <td>-0.236514</td>\n",
       "      <td>-0.748194</td>\n",
       "      <td>-0.973847</td>\n",
       "      <td>1</td>\n",
       "    </tr>\n",
       "    <tr>\n",
       "      <th>4433</th>\n",
       "      <td>-0.720414</td>\n",
       "      <td>-0.236514</td>\n",
       "      <td>-0.748194</td>\n",
       "      <td>-0.973847</td>\n",
       "      <td>1</td>\n",
       "    </tr>\n",
       "    <tr>\n",
       "      <th>4434</th>\n",
       "      <td>-0.720414</td>\n",
       "      <td>-0.236514</td>\n",
       "      <td>-0.748194</td>\n",
       "      <td>-0.973847</td>\n",
       "      <td>1</td>\n",
       "    </tr>\n",
       "    <tr>\n",
       "      <th>4435</th>\n",
       "      <td>-1.245219</td>\n",
       "      <td>-0.236514</td>\n",
       "      <td>-1.468311</td>\n",
       "      <td>-0.973847</td>\n",
       "      <td>1</td>\n",
       "    </tr>\n",
       "    <tr>\n",
       "      <th>4436</th>\n",
       "      <td>-0.877856</td>\n",
       "      <td>-0.236514</td>\n",
       "      <td>-0.748194</td>\n",
       "      <td>-0.973847</td>\n",
       "      <td>1</td>\n",
       "    </tr>\n",
       "  </tbody>\n",
       "</table>\n",
       "<p>4437 rows × 5 columns</p>\n",
       "</div>"
      ],
      "text/plain": [
       "      path_len  num_hyphen  num_slash  num_number  label\n",
       "0    -1.297699   -0.236514  -1.468311   -0.973847      1\n",
       "1    -1.245219   -0.236514  -1.468311   -0.973847      1\n",
       "2    -1.245219   -0.236514  -1.468311   -0.973847      1\n",
       "3    -1.245219   -0.236514  -1.468311   -0.973847      1\n",
       "4    -1.245219   -0.236514  -1.468311   -0.973847      1\n",
       "...        ...         ...        ...         ...    ...\n",
       "4432 -0.720414   -0.236514  -0.748194   -0.973847      1\n",
       "4433 -0.720414   -0.236514  -0.748194   -0.973847      1\n",
       "4434 -0.720414   -0.236514  -0.748194   -0.973847      1\n",
       "4435 -1.245219   -0.236514  -1.468311   -0.973847      1\n",
       "4436 -0.877856   -0.236514  -0.748194   -0.973847      1\n",
       "\n",
       "[4437 rows x 5 columns]"
      ]
     },
     "execution_count": 63,
     "metadata": {},
     "output_type": "execute_result"
    }
   ],
   "source": [
    "links_ = links_sca.copy()\n",
    "links_[\"label\"] = output_targets\n",
    "links_"
   ]
  },
  {
   "cell_type": "code",
   "execution_count": 69,
   "id": "boring-maria",
   "metadata": {},
   "outputs": [],
   "source": [
    "import math\n",
    "import numpy as np\n",
    "# Choose the first 90% of the examples for training.\n",
    "n_links = len(links_df)\n",
    "train_len = int(math.floor(0.85*n_links))\n",
    "validation_len = int(n_links - train_len)\n",
    "\n",
    "links_input = links_.reindex(np.random.permutation(links_.index))\n",
    "\n",
    "training_input = links_input.head(train_len)\n",
    "validation_input = links_input.tail(validation_len)"
   ]
  },
  {
   "cell_type": "code",
   "execution_count": 71,
   "id": "protective-feelings",
   "metadata": {},
   "outputs": [],
   "source": [
    "training_examples = training_input[[\"path_len\",\"num_hyphen\",\"num_slash\",\"num_number\"]]\n",
    "training_targets = training_input[[\"label\"]]\n",
    "\n",
    "validation_examples = validation_input[[\"path_len\",\"num_hyphen\",\"num_slash\",\"num_number\"]]\n",
    "validation_targets = validation_input[[\"label\"]]"
   ]
  },
  {
   "cell_type": "code",
   "execution_count": 73,
   "id": "explicit-treaty",
   "metadata": {},
   "outputs": [
    {
     "name": "stdout",
     "output_type": "stream",
     "text": [
      "Training examples summary:\n"
     ]
    },
    {
     "data": {
      "text/html": [
       "<div>\n",
       "<style scoped>\n",
       "    .dataframe tbody tr th:only-of-type {\n",
       "        vertical-align: middle;\n",
       "    }\n",
       "\n",
       "    .dataframe tbody tr th {\n",
       "        vertical-align: top;\n",
       "    }\n",
       "\n",
       "    .dataframe thead th {\n",
       "        text-align: right;\n",
       "    }\n",
       "</style>\n",
       "<table border=\"1\" class=\"dataframe\">\n",
       "  <thead>\n",
       "    <tr style=\"text-align: right;\">\n",
       "      <th></th>\n",
       "      <th>path_len</th>\n",
       "      <th>num_hyphen</th>\n",
       "      <th>num_slash</th>\n",
       "      <th>num_number</th>\n",
       "    </tr>\n",
       "  </thead>\n",
       "  <tbody>\n",
       "    <tr>\n",
       "      <th>count</th>\n",
       "      <td>3771.000000</td>\n",
       "      <td>3771.000000</td>\n",
       "      <td>3771.000000</td>\n",
       "      <td>3771.000000</td>\n",
       "    </tr>\n",
       "    <tr>\n",
       "      <th>mean</th>\n",
       "      <td>0.005892</td>\n",
       "      <td>0.004357</td>\n",
       "      <td>0.002858</td>\n",
       "      <td>-0.000296</td>\n",
       "    </tr>\n",
       "    <tr>\n",
       "      <th>std</th>\n",
       "      <td>1.024305</td>\n",
       "      <td>1.014908</td>\n",
       "      <td>1.003229</td>\n",
       "      <td>1.004429</td>\n",
       "    </tr>\n",
       "    <tr>\n",
       "      <th>min</th>\n",
       "      <td>-1.297699</td>\n",
       "      <td>-0.236514</td>\n",
       "      <td>-1.468311</td>\n",
       "      <td>-0.973847</td>\n",
       "    </tr>\n",
       "    <tr>\n",
       "      <th>25%</th>\n",
       "      <td>-0.562973</td>\n",
       "      <td>-0.236514</td>\n",
       "      <td>-0.748194</td>\n",
       "      <td>-0.973847</td>\n",
       "    </tr>\n",
       "    <tr>\n",
       "      <th>50%</th>\n",
       "      <td>-0.090649</td>\n",
       "      <td>-0.236514</td>\n",
       "      <td>-0.028078</td>\n",
       "      <td>-0.218677</td>\n",
       "    </tr>\n",
       "    <tr>\n",
       "      <th>75%</th>\n",
       "      <td>0.434155</td>\n",
       "      <td>-0.236514</td>\n",
       "      <td>0.692039</td>\n",
       "      <td>0.914079</td>\n",
       "    </tr>\n",
       "    <tr>\n",
       "      <th>max</th>\n",
       "      <td>15.548522</td>\n",
       "      <td>9.169237</td>\n",
       "      <td>5.012739</td>\n",
       "      <td>12.996799</td>\n",
       "    </tr>\n",
       "  </tbody>\n",
       "</table>\n",
       "</div>"
      ],
      "text/plain": [
       "          path_len   num_hyphen    num_slash   num_number\n",
       "count  3771.000000  3771.000000  3771.000000  3771.000000\n",
       "mean      0.005892     0.004357     0.002858    -0.000296\n",
       "std       1.024305     1.014908     1.003229     1.004429\n",
       "min      -1.297699    -0.236514    -1.468311    -0.973847\n",
       "25%      -0.562973    -0.236514    -0.748194    -0.973847\n",
       "50%      -0.090649    -0.236514    -0.028078    -0.218677\n",
       "75%       0.434155    -0.236514     0.692039     0.914079\n",
       "max      15.548522     9.169237     5.012739    12.996799"
      ]
     },
     "metadata": {},
     "output_type": "display_data"
    },
    {
     "name": "stdout",
     "output_type": "stream",
     "text": [
      "Validation examples summary:\n"
     ]
    },
    {
     "data": {
      "text/html": [
       "<div>\n",
       "<style scoped>\n",
       "    .dataframe tbody tr th:only-of-type {\n",
       "        vertical-align: middle;\n",
       "    }\n",
       "\n",
       "    .dataframe tbody tr th {\n",
       "        vertical-align: top;\n",
       "    }\n",
       "\n",
       "    .dataframe thead th {\n",
       "        text-align: right;\n",
       "    }\n",
       "</style>\n",
       "<table border=\"1\" class=\"dataframe\">\n",
       "  <thead>\n",
       "    <tr style=\"text-align: right;\">\n",
       "      <th></th>\n",
       "      <th>path_len</th>\n",
       "      <th>num_hyphen</th>\n",
       "      <th>num_slash</th>\n",
       "      <th>num_number</th>\n",
       "    </tr>\n",
       "  </thead>\n",
       "  <tbody>\n",
       "    <tr>\n",
       "      <th>count</th>\n",
       "      <td>666.000000</td>\n",
       "      <td>666.000000</td>\n",
       "      <td>666.000000</td>\n",
       "      <td>666.000000</td>\n",
       "    </tr>\n",
       "    <tr>\n",
       "      <th>mean</th>\n",
       "      <td>-0.033362</td>\n",
       "      <td>-0.024673</td>\n",
       "      <td>-0.016184</td>\n",
       "      <td>0.001676</td>\n",
       "    </tr>\n",
       "    <tr>\n",
       "      <th>std</th>\n",
       "      <td>0.850161</td>\n",
       "      <td>0.912140</td>\n",
       "      <td>0.982869</td>\n",
       "      <td>0.976051</td>\n",
       "    </tr>\n",
       "    <tr>\n",
       "      <th>min</th>\n",
       "      <td>-1.245219</td>\n",
       "      <td>-0.236514</td>\n",
       "      <td>-1.468311</td>\n",
       "      <td>-0.973847</td>\n",
       "    </tr>\n",
       "    <tr>\n",
       "      <th>25%</th>\n",
       "      <td>-0.615454</td>\n",
       "      <td>-0.236514</td>\n",
       "      <td>-0.748194</td>\n",
       "      <td>-0.973847</td>\n",
       "    </tr>\n",
       "    <tr>\n",
       "      <th>50%</th>\n",
       "      <td>-0.090649</td>\n",
       "      <td>-0.236514</td>\n",
       "      <td>-0.028078</td>\n",
       "      <td>-0.218677</td>\n",
       "    </tr>\n",
       "    <tr>\n",
       "      <th>75%</th>\n",
       "      <td>0.434155</td>\n",
       "      <td>-0.236514</td>\n",
       "      <td>0.692039</td>\n",
       "      <td>0.914079</td>\n",
       "    </tr>\n",
       "    <tr>\n",
       "      <th>max</th>\n",
       "      <td>4.212747</td>\n",
       "      <td>9.169237</td>\n",
       "      <td>4.292622</td>\n",
       "      <td>2.676142</td>\n",
       "    </tr>\n",
       "  </tbody>\n",
       "</table>\n",
       "</div>"
      ],
      "text/plain": [
       "         path_len  num_hyphen   num_slash  num_number\n",
       "count  666.000000  666.000000  666.000000  666.000000\n",
       "mean    -0.033362   -0.024673   -0.016184    0.001676\n",
       "std      0.850161    0.912140    0.982869    0.976051\n",
       "min     -1.245219   -0.236514   -1.468311   -0.973847\n",
       "25%     -0.615454   -0.236514   -0.748194   -0.973847\n",
       "50%     -0.090649   -0.236514   -0.028078   -0.218677\n",
       "75%      0.434155   -0.236514    0.692039    0.914079\n",
       "max      4.212747    9.169237    4.292622    2.676142"
      ]
     },
     "metadata": {},
     "output_type": "display_data"
    },
    {
     "name": "stdout",
     "output_type": "stream",
     "text": [
      "Training targets summary:\n"
     ]
    },
    {
     "data": {
      "text/html": [
       "<div>\n",
       "<style scoped>\n",
       "    .dataframe tbody tr th:only-of-type {\n",
       "        vertical-align: middle;\n",
       "    }\n",
       "\n",
       "    .dataframe tbody tr th {\n",
       "        vertical-align: top;\n",
       "    }\n",
       "\n",
       "    .dataframe thead th {\n",
       "        text-align: right;\n",
       "    }\n",
       "</style>\n",
       "<table border=\"1\" class=\"dataframe\">\n",
       "  <thead>\n",
       "    <tr style=\"text-align: right;\">\n",
       "      <th></th>\n",
       "      <th>label</th>\n",
       "    </tr>\n",
       "  </thead>\n",
       "  <tbody>\n",
       "    <tr>\n",
       "      <th>count</th>\n",
       "      <td>3771.000000</td>\n",
       "    </tr>\n",
       "    <tr>\n",
       "      <th>mean</th>\n",
       "      <td>0.474145</td>\n",
       "    </tr>\n",
       "    <tr>\n",
       "      <th>std</th>\n",
       "      <td>0.499397</td>\n",
       "    </tr>\n",
       "    <tr>\n",
       "      <th>min</th>\n",
       "      <td>0.000000</td>\n",
       "    </tr>\n",
       "    <tr>\n",
       "      <th>25%</th>\n",
       "      <td>0.000000</td>\n",
       "    </tr>\n",
       "    <tr>\n",
       "      <th>50%</th>\n",
       "      <td>0.000000</td>\n",
       "    </tr>\n",
       "    <tr>\n",
       "      <th>75%</th>\n",
       "      <td>1.000000</td>\n",
       "    </tr>\n",
       "    <tr>\n",
       "      <th>max</th>\n",
       "      <td>1.000000</td>\n",
       "    </tr>\n",
       "  </tbody>\n",
       "</table>\n",
       "</div>"
      ],
      "text/plain": [
       "             label\n",
       "count  3771.000000\n",
       "mean      0.474145\n",
       "std       0.499397\n",
       "min       0.000000\n",
       "25%       0.000000\n",
       "50%       0.000000\n",
       "75%       1.000000\n",
       "max       1.000000"
      ]
     },
     "metadata": {},
     "output_type": "display_data"
    },
    {
     "name": "stdout",
     "output_type": "stream",
     "text": [
      "Validation targets summary:\n"
     ]
    },
    {
     "data": {
      "text/html": [
       "<div>\n",
       "<style scoped>\n",
       "    .dataframe tbody tr th:only-of-type {\n",
       "        vertical-align: middle;\n",
       "    }\n",
       "\n",
       "    .dataframe tbody tr th {\n",
       "        vertical-align: top;\n",
       "    }\n",
       "\n",
       "    .dataframe thead th {\n",
       "        text-align: right;\n",
       "    }\n",
       "</style>\n",
       "<table border=\"1\" class=\"dataframe\">\n",
       "  <thead>\n",
       "    <tr style=\"text-align: right;\">\n",
       "      <th></th>\n",
       "      <th>label</th>\n",
       "    </tr>\n",
       "  </thead>\n",
       "  <tbody>\n",
       "    <tr>\n",
       "      <th>count</th>\n",
       "      <td>666.000000</td>\n",
       "    </tr>\n",
       "    <tr>\n",
       "      <th>mean</th>\n",
       "      <td>0.469970</td>\n",
       "    </tr>\n",
       "    <tr>\n",
       "      <th>std</th>\n",
       "      <td>0.499473</td>\n",
       "    </tr>\n",
       "    <tr>\n",
       "      <th>min</th>\n",
       "      <td>0.000000</td>\n",
       "    </tr>\n",
       "    <tr>\n",
       "      <th>25%</th>\n",
       "      <td>0.000000</td>\n",
       "    </tr>\n",
       "    <tr>\n",
       "      <th>50%</th>\n",
       "      <td>0.000000</td>\n",
       "    </tr>\n",
       "    <tr>\n",
       "      <th>75%</th>\n",
       "      <td>1.000000</td>\n",
       "    </tr>\n",
       "    <tr>\n",
       "      <th>max</th>\n",
       "      <td>1.000000</td>\n",
       "    </tr>\n",
       "  </tbody>\n",
       "</table>\n",
       "</div>"
      ],
      "text/plain": [
       "            label\n",
       "count  666.000000\n",
       "mean     0.469970\n",
       "std      0.499473\n",
       "min      0.000000\n",
       "25%      0.000000\n",
       "50%      0.000000\n",
       "75%      1.000000\n",
       "max      1.000000"
      ]
     },
     "metadata": {},
     "output_type": "display_data"
    }
   ],
   "source": [
    "from IPython import display\n",
    "\n",
    "print(\"Training examples summary:\")\n",
    "display.display(training_examples.describe())\n",
    "print(\"Validation examples summary:\")\n",
    "display.display(validation_examples.describe())\n",
    "\n",
    "print(\"Training targets summary:\")\n",
    "display.display(training_targets.describe())\n",
    "print(\"Validation targets summary:\")\n",
    "display.display(validation_targets.describe())"
   ]
  },
  {
   "cell_type": "code",
   "execution_count": 76,
   "id": "accomplished-custom",
   "metadata": {},
   "outputs": [],
   "source": [
    "from sklearn.model_selection import train_test_split, GroupKFold, cross_val_score\n",
    "from sklearn.linear_model import LogisticRegression, LogisticRegressionCV, SGDClassifier"
   ]
  },
  {
   "cell_type": "code",
   "execution_count": 82,
   "id": "cooked-rebound",
   "metadata": {},
   "outputs": [
    {
     "name": "stdout",
     "output_type": "stream",
     "text": [
      "Logit 0.82432\n",
      "SGD 0.80631\n"
     ]
    },
    {
     "name": "stderr",
     "output_type": "stream",
     "text": [
      "/home/icejm/.conda/envs/openwpm/lib/python3.8/site-packages/sklearn/utils/validation.py:63: DataConversionWarning: A column-vector y was passed when a 1d array was expected. Please change the shape of y to (n_samples, ), for example using ravel().\n",
      "  return f(*args, **kwargs)\n",
      "/home/icejm/.conda/envs/openwpm/lib/python3.8/site-packages/sklearn/utils/validation.py:63: DataConversionWarning: A column-vector y was passed when a 1d array was expected. Please change the shape of y to (n_samples, ), for example using ravel().\n",
      "  return f(*args, **kwargs)\n"
     ]
    }
   ],
   "source": [
    "gkf = GroupKFold(n_splits=5)\n",
    "\n",
    "clf = LogisticRegression(solver=\"lbfgs\", C=0.05, penalty=\"l2\").fit(training_examples, training_targets.values)\n",
    "sgd_clf = SGDClassifier(loss=\"log\", max_iter=10000, alpha=0.01,\n",
    "                        learning_rate=\"optimal\").\\\n",
    "                        fit(training_examples, training_targets.values)\n",
    "# logit_scores = cross_val_score(clf, training_examples,\n",
    "#                                training_targets.values,\n",
    "#                                cv=gkf, groups=training_groups)\n",
    "\n",
    "# sgd_scores = cross_val_score(sgd_clf, training_examples,\n",
    "#                              training_targets.values,\n",
    "#                              cv=gkf, groups=training_groups)\n",
    "\n",
    "# print(\"Logit Accuracy: %0.2f (+/- %0.2f)\" % (logit_scores.mean(), logit_scores.std() * 2))\n",
    "# print(\"SGD Accuracy: %0.2f (+/- %0.2f)\" % (sgd_scores.mean(), sgd_scores.std() * 2))\n",
    "\n",
    "print(\"Logit\", \"%0.5f\" % clf.score(validation_examples, validation_targets))\n",
    "print(\"SGD\", \"%0.5f\" % sgd_clf.score(validation_examples, validation_targets))"
   ]
  },
  {
   "cell_type": "code",
   "execution_count": 80,
   "id": "martial-fiction",
   "metadata": {},
   "outputs": [],
   "source": [
    "from sklearn import svm"
   ]
  },
  {
   "cell_type": "code",
   "execution_count": 83,
   "id": "sporting-advertiser",
   "metadata": {},
   "outputs": [
    {
     "name": "stderr",
     "output_type": "stream",
     "text": [
      "/home/icejm/.conda/envs/openwpm/lib/python3.8/site-packages/sklearn/utils/validation.py:63: DataConversionWarning: A column-vector y was passed when a 1d array was expected. Please change the shape of y to (n_samples, ), for example using ravel().\n",
      "  return f(*args, **kwargs)\n"
     ]
    },
    {
     "name": "stdout",
     "output_type": "stream",
     "text": [
      "SVM 0.88\n"
     ]
    }
   ],
   "source": [
    "svm_clf = svm.SVC().fit(training_examples, training_targets.values)\n",
    "print(\"SVM\", \"%0.5f\" % svm_clf.score(validation_examples, validation_targets))"
   ]
  },
  {
   "cell_type": "code",
   "execution_count": 84,
   "id": "executed-louisiana",
   "metadata": {},
   "outputs": [],
   "source": [
    "from sklearn import tree"
   ]
  },
  {
   "cell_type": "code",
   "execution_count": 85,
   "id": "standard-lancaster",
   "metadata": {},
   "outputs": [
    {
     "name": "stdout",
     "output_type": "stream",
     "text": [
      "Tree 0.93694\n"
     ]
    }
   ],
   "source": [
    "tree_clf = tree.DecisionTreeClassifier().fit(training_examples, training_targets.values)\n",
    "print(\"Tree\", \"%0.5f\" % tree_clf.score(validation_examples, validation_targets))"
   ]
  },
  {
   "cell_type": "code",
   "execution_count": 86,
   "id": "about-kruger",
   "metadata": {},
   "outputs": [],
   "source": [
    "import pickle\n",
    "model_filename = 'DTClassifier.est'\n",
    "\n",
    "final_tree_clf = tree.DecisionTreeClassifier().fit(links_input[[\"path_len\",\"num_hyphen\",\"num_slash\",\"num_number\"]]\n",
    "                                                   , links_input[[\"label\"]])\n",
    "\n",
    "pickle.dump(tree_clf, open(model_filename, 'wb'))"
   ]
  },
  {
   "cell_type": "code",
   "execution_count": 88,
   "id": "settled-plasma",
   "metadata": {},
   "outputs": [
    {
     "data": {
      "text/plain": [
       "0.9369369369369369"
      ]
     },
     "execution_count": 88,
     "metadata": {},
     "output_type": "execute_result"
    }
   ],
   "source": [
    "file_tree_est = pickle.load(open(model_filename, 'rb'))\n",
    "file_tree_est.score(validation_examples, validation_targets)"
   ]
  },
  {
   "cell_type": "code",
   "execution_count": null,
   "id": "fossil-employee",
   "metadata": {},
   "outputs": [],
   "source": []
  }
 ],
 "metadata": {
  "kernelspec": {
   "display_name": "Python 3",
   "language": "python",
   "name": "python3"
  },
  "language_info": {
   "codemirror_mode": {
    "name": "ipython",
    "version": 3
   },
   "file_extension": ".py",
   "mimetype": "text/x-python",
   "name": "python",
   "nbconvert_exporter": "python",
   "pygments_lexer": "ipython3",
   "version": "3.8.8"
  }
 },
 "nbformat": 4,
 "nbformat_minor": 5
}
