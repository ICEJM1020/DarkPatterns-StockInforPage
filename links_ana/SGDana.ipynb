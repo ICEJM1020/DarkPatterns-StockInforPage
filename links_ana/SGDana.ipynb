{
 "cells": [
  {
   "cell_type": "code",
   "execution_count": 1,
   "id": "extra-greenhouse",
   "metadata": {},
   "outputs": [],
   "source": [
    "import re\n",
    "import os\n",
    "import pickle\n",
    "import pandas as pd\n",
    "from sklearn.preprocessing import StandardScaler\n",
    "from urllib.parse import urlparse"
   ]
  },
  {
   "cell_type": "code",
   "execution_count": 26,
   "id": "answering-fitting",
   "metadata": {},
   "outputs": [
    {
     "data": {
      "text/plain": [
       "15"
      ]
     },
     "execution_count": 26,
     "metadata": {},
     "output_type": "execute_result"
    }
   ],
   "source": [
    "len(re.findall(\"(\\d)\",\"https://finance.sina.com.cn/stock/kechuangban/zcfx/2021-03-16/doc-ikkntiam2634520.shtm\"))"
   ]
  },
  {
   "cell_type": "code",
   "execution_count": 10,
   "id": "annual-disposal",
   "metadata": {},
   "outputs": [
    {
     "name": "stdout",
     "output_type": "stream",
     "text": [
      "finance.17ok.com/news/4/2020/1019/2703664.html 17ok.com/stock2018531.shtml 17ok.com\n",
      "None\n",
      "<re.Match object; span=(8, 16), match='17ok.com'>\n"
     ]
    }
   ],
   "source": [
    "\n",
    "\n",
    "items = ['17ok.com/stock2018531.shtml', '17ok.com']\n",
    "if not items[0].startswith(\"http\"):\n",
    "    url = \"http://\" + items[0]\n",
    "else:\n",
    "    url = items[0]\n",
    "if not items[1].startswith(\"http\"):\n",
    "    upurl = \"http://\" + items[1]\n",
    "else:\n",
    "    upurl = items[1]\n",
    "\n",
    "current_url = \"http://finance.17ok.com/news/4/2020/1019/2703664.html\"\n",
    "origin_url = url\n",
    "\n",
    "temp_c = current_url.replace(\"http://\", \"\").replace(\"https://\", \"\")\n",
    "temp_o = origin_url.replace(\"http://\", \"\").replace(\"https://\", \"\")\n",
    "temp_up = upurl.replace(\"http://\", \"\").replace(\"https://\", \"\")\n",
    "print(temp_c, temp_o, temp_up)\n",
    "print(re.search(temp_o, temp_c))\n",
    "print(re.search(temp_up, temp_c))"
   ]
  },
  {
   "cell_type": "code",
   "execution_count": 5,
   "id": "imperial-sleep",
   "metadata": {},
   "outputs": [
    {
     "name": "stdout",
     "output_type": "stream",
     "text": [
      "None\n"
     ]
    }
   ],
   "source": [
    "print(re.search(temp_c, temp_o))"
   ]
  },
  {
   "cell_type": "code",
   "execution_count": 2,
   "id": "faced-cleanup",
   "metadata": {},
   "outputs": [],
   "source": [
    "def build_features(df, load_scaler_from_file=False):\n",
    "    processed_features = df[[\"url\"]].copy()\n",
    "    processed_features[\"path\"] = processed_features[\"url\"].map(\n",
    "        lambda x: urlparse(x).path + urlparse(x).params + urlparse(x).query + urlparse(x).fragment)\n",
    "    processed_features[\"path_len\"] = processed_features[\"path\"].map(\n",
    "        lambda x: len(x))\n",
    "    processed_features[\"num_hyphen\"] = processed_features[\"path\"].map(\n",
    "        lambda x: x.count(\"-\"))\n",
    "    processed_features[\"num_slash\"] = processed_features[\"path\"].map(\n",
    "        lambda x: x.rstrip(\"/\").count(\"/\"))\n",
    "    processed_features[\"num_number\"] = processed_features[\"path\"].map(\n",
    "        lambda x: len(re.findall(\"(\\d)\",x)))\n",
    "    cols_to_drop = ['url', 'path']\n",
    "\n",
    "    processed_features.drop(cols_to_drop, axis=1, inplace=True)\n",
    "    scaled_features = processed_features.copy()\n",
    "    features = scaled_features[[\"path_len\",\"num_hyphen\",\"num_slash\",\"num_number\"]]\n",
    "    scaler_filename = 'StandardScaler.est'\n",
    "    if load_scaler_from_file and os.path.isfile(scaler_filename):\n",
    "        scaler = pickle.load(open(scaler_filename, 'rb'))\n",
    "    else:\n",
    "        scaler = StandardScaler()\n",
    "        scaler = StandardScaler().fit(features.values)\n",
    "        pickle.dump(scaler, open(scaler_filename, 'wb'))\n",
    "\n",
    "    features = scaler.transform(features.values)\n",
    "    scaled_features[[\"path_len\",\"num_hyphen\",\"num_slash\",\"num_number\"]] = features\n",
    "    return scaled_features"
   ]
  },
  {
   "cell_type": "code",
   "execution_count": 3,
   "id": "level-agenda",
   "metadata": {},
   "outputs": [],
   "source": [
    "links_df = pd.read_csv(\"links.csv\")"
   ]
  },
  {
   "cell_type": "code",
   "execution_count": 4,
   "id": "latin-shuttle",
   "metadata": {},
   "outputs": [
    {
     "data": {
      "text/html": [
       "<div>\n",
       "<style scoped>\n",
       "    .dataframe tbody tr th:only-of-type {\n",
       "        vertical-align: middle;\n",
       "    }\n",
       "\n",
       "    .dataframe tbody tr th {\n",
       "        vertical-align: top;\n",
       "    }\n",
       "\n",
       "    .dataframe thead th {\n",
       "        text-align: right;\n",
       "    }\n",
       "</style>\n",
       "<table border=\"1\" class=\"dataframe\">\n",
       "  <thead>\n",
       "    <tr style=\"text-align: right;\">\n",
       "      <th></th>\n",
       "      <th>url</th>\n",
       "      <th>label</th>\n",
       "    </tr>\n",
       "  </thead>\n",
       "  <tbody>\n",
       "    <tr>\n",
       "      <th>0</th>\n",
       "      <td>http://stock.cnfol.com</td>\n",
       "      <td>1</td>\n",
       "    </tr>\n",
       "    <tr>\n",
       "      <th>1</th>\n",
       "      <td>http://www.cnfol.com/</td>\n",
       "      <td>1</td>\n",
       "    </tr>\n",
       "    <tr>\n",
       "      <th>2</th>\n",
       "      <td>http://gold.cnfol.com/</td>\n",
       "      <td>1</td>\n",
       "    </tr>\n",
       "    <tr>\n",
       "      <th>3</th>\n",
       "      <td>http://money.cnfol.com/</td>\n",
       "      <td>1</td>\n",
       "    </tr>\n",
       "    <tr>\n",
       "      <th>4</th>\n",
       "      <td>http://video.cnfol.com/</td>\n",
       "      <td>1</td>\n",
       "    </tr>\n",
       "  </tbody>\n",
       "</table>\n",
       "</div>"
      ],
      "text/plain": [
       "                       url  label\n",
       "0   http://stock.cnfol.com      1\n",
       "1    http://www.cnfol.com/      1\n",
       "2   http://gold.cnfol.com/      1\n",
       "3  http://money.cnfol.com/      1\n",
       "4  http://video.cnfol.com/      1"
      ]
     },
     "execution_count": 4,
     "metadata": {},
     "output_type": "execute_result"
    }
   ],
   "source": [
    "links_df.head()"
   ]
  },
  {
   "cell_type": "code",
   "execution_count": 5,
   "id": "configured-genesis",
   "metadata": {},
   "outputs": [],
   "source": [
    "links_sca = build_features(links_df)"
   ]
  },
  {
   "cell_type": "code",
   "execution_count": 6,
   "id": "lucky-needle",
   "metadata": {},
   "outputs": [
    {
     "data": {
      "text/html": [
       "<div>\n",
       "<style scoped>\n",
       "    .dataframe tbody tr th:only-of-type {\n",
       "        vertical-align: middle;\n",
       "    }\n",
       "\n",
       "    .dataframe tbody tr th {\n",
       "        vertical-align: top;\n",
       "    }\n",
       "\n",
       "    .dataframe thead th {\n",
       "        text-align: right;\n",
       "    }\n",
       "</style>\n",
       "<table border=\"1\" class=\"dataframe\">\n",
       "  <thead>\n",
       "    <tr style=\"text-align: right;\">\n",
       "      <th></th>\n",
       "      <th>path_len</th>\n",
       "      <th>num_hyphen</th>\n",
       "      <th>num_slash</th>\n",
       "      <th>num_number</th>\n",
       "    </tr>\n",
       "  </thead>\n",
       "  <tbody>\n",
       "    <tr>\n",
       "      <th>0</th>\n",
       "      <td>-1.297699</td>\n",
       "      <td>-0.236514</td>\n",
       "      <td>-1.468311</td>\n",
       "      <td>-0.973847</td>\n",
       "    </tr>\n",
       "    <tr>\n",
       "      <th>1</th>\n",
       "      <td>-1.245219</td>\n",
       "      <td>-0.236514</td>\n",
       "      <td>-1.468311</td>\n",
       "      <td>-0.973847</td>\n",
       "    </tr>\n",
       "    <tr>\n",
       "      <th>2</th>\n",
       "      <td>-1.245219</td>\n",
       "      <td>-0.236514</td>\n",
       "      <td>-1.468311</td>\n",
       "      <td>-0.973847</td>\n",
       "    </tr>\n",
       "    <tr>\n",
       "      <th>3</th>\n",
       "      <td>-1.245219</td>\n",
       "      <td>-0.236514</td>\n",
       "      <td>-1.468311</td>\n",
       "      <td>-0.973847</td>\n",
       "    </tr>\n",
       "    <tr>\n",
       "      <th>4</th>\n",
       "      <td>-1.245219</td>\n",
       "      <td>-0.236514</td>\n",
       "      <td>-1.468311</td>\n",
       "      <td>-0.973847</td>\n",
       "    </tr>\n",
       "  </tbody>\n",
       "</table>\n",
       "</div>"
      ],
      "text/plain": [
       "   path_len  num_hyphen  num_slash  num_number\n",
       "0 -1.297699   -0.236514  -1.468311   -0.973847\n",
       "1 -1.245219   -0.236514  -1.468311   -0.973847\n",
       "2 -1.245219   -0.236514  -1.468311   -0.973847\n",
       "3 -1.245219   -0.236514  -1.468311   -0.973847\n",
       "4 -1.245219   -0.236514  -1.468311   -0.973847"
      ]
     },
     "execution_count": 6,
     "metadata": {},
     "output_type": "execute_result"
    }
   ],
   "source": [
    "pd.DataFrame(links_sca).head()"
   ]
  },
  {
   "cell_type": "code",
   "execution_count": 7,
   "id": "criminal-martin",
   "metadata": {},
   "outputs": [
    {
     "data": {
      "text/html": [
       "<div>\n",
       "<style scoped>\n",
       "    .dataframe tbody tr th:only-of-type {\n",
       "        vertical-align: middle;\n",
       "    }\n",
       "\n",
       "    .dataframe tbody tr th {\n",
       "        vertical-align: top;\n",
       "    }\n",
       "\n",
       "    .dataframe thead th {\n",
       "        text-align: right;\n",
       "    }\n",
       "</style>\n",
       "<table border=\"1\" class=\"dataframe\">\n",
       "  <thead>\n",
       "    <tr style=\"text-align: right;\">\n",
       "      <th></th>\n",
       "      <th>label</th>\n",
       "    </tr>\n",
       "  </thead>\n",
       "  <tbody>\n",
       "    <tr>\n",
       "      <th>0</th>\n",
       "      <td>1</td>\n",
       "    </tr>\n",
       "    <tr>\n",
       "      <th>1</th>\n",
       "      <td>1</td>\n",
       "    </tr>\n",
       "    <tr>\n",
       "      <th>2</th>\n",
       "      <td>1</td>\n",
       "    </tr>\n",
       "    <tr>\n",
       "      <th>3</th>\n",
       "      <td>1</td>\n",
       "    </tr>\n",
       "    <tr>\n",
       "      <th>4</th>\n",
       "      <td>1</td>\n",
       "    </tr>\n",
       "  </tbody>\n",
       "</table>\n",
       "</div>"
      ],
      "text/plain": [
       "   label\n",
       "0      1\n",
       "1      1\n",
       "2      1\n",
       "3      1\n",
       "4      1"
      ]
     },
     "execution_count": 7,
     "metadata": {},
     "output_type": "execute_result"
    }
   ],
   "source": [
    "output_targets = pd.DataFrame()\n",
    "output_targets[\"label\"] = links_df[\"label\"].astype(int)\n",
    "output_targets.head()"
   ]
  },
  {
   "cell_type": "code",
   "execution_count": 8,
   "id": "stable-balance",
   "metadata": {},
   "outputs": [
    {
     "data": {
      "text/html": [
       "<div>\n",
       "<style scoped>\n",
       "    .dataframe tbody tr th:only-of-type {\n",
       "        vertical-align: middle;\n",
       "    }\n",
       "\n",
       "    .dataframe tbody tr th {\n",
       "        vertical-align: top;\n",
       "    }\n",
       "\n",
       "    .dataframe thead th {\n",
       "        text-align: right;\n",
       "    }\n",
       "</style>\n",
       "<table border=\"1\" class=\"dataframe\">\n",
       "  <thead>\n",
       "    <tr style=\"text-align: right;\">\n",
       "      <th></th>\n",
       "      <th>path_len</th>\n",
       "      <th>num_hyphen</th>\n",
       "      <th>num_slash</th>\n",
       "      <th>num_number</th>\n",
       "      <th>label</th>\n",
       "    </tr>\n",
       "  </thead>\n",
       "  <tbody>\n",
       "    <tr>\n",
       "      <th>0</th>\n",
       "      <td>-1.297699</td>\n",
       "      <td>-0.236514</td>\n",
       "      <td>-1.468311</td>\n",
       "      <td>-0.973847</td>\n",
       "      <td>1</td>\n",
       "    </tr>\n",
       "    <tr>\n",
       "      <th>1</th>\n",
       "      <td>-1.245219</td>\n",
       "      <td>-0.236514</td>\n",
       "      <td>-1.468311</td>\n",
       "      <td>-0.973847</td>\n",
       "      <td>1</td>\n",
       "    </tr>\n",
       "    <tr>\n",
       "      <th>2</th>\n",
       "      <td>-1.245219</td>\n",
       "      <td>-0.236514</td>\n",
       "      <td>-1.468311</td>\n",
       "      <td>-0.973847</td>\n",
       "      <td>1</td>\n",
       "    </tr>\n",
       "    <tr>\n",
       "      <th>3</th>\n",
       "      <td>-1.245219</td>\n",
       "      <td>-0.236514</td>\n",
       "      <td>-1.468311</td>\n",
       "      <td>-0.973847</td>\n",
       "      <td>1</td>\n",
       "    </tr>\n",
       "    <tr>\n",
       "      <th>4</th>\n",
       "      <td>-1.245219</td>\n",
       "      <td>-0.236514</td>\n",
       "      <td>-1.468311</td>\n",
       "      <td>-0.973847</td>\n",
       "      <td>1</td>\n",
       "    </tr>\n",
       "    <tr>\n",
       "      <th>...</th>\n",
       "      <td>...</td>\n",
       "      <td>...</td>\n",
       "      <td>...</td>\n",
       "      <td>...</td>\n",
       "      <td>...</td>\n",
       "    </tr>\n",
       "    <tr>\n",
       "      <th>4432</th>\n",
       "      <td>-0.720414</td>\n",
       "      <td>-0.236514</td>\n",
       "      <td>-0.748194</td>\n",
       "      <td>-0.973847</td>\n",
       "      <td>1</td>\n",
       "    </tr>\n",
       "    <tr>\n",
       "      <th>4433</th>\n",
       "      <td>-0.720414</td>\n",
       "      <td>-0.236514</td>\n",
       "      <td>-0.748194</td>\n",
       "      <td>-0.973847</td>\n",
       "      <td>1</td>\n",
       "    </tr>\n",
       "    <tr>\n",
       "      <th>4434</th>\n",
       "      <td>-0.720414</td>\n",
       "      <td>-0.236514</td>\n",
       "      <td>-0.748194</td>\n",
       "      <td>-0.973847</td>\n",
       "      <td>1</td>\n",
       "    </tr>\n",
       "    <tr>\n",
       "      <th>4435</th>\n",
       "      <td>-1.245219</td>\n",
       "      <td>-0.236514</td>\n",
       "      <td>-1.468311</td>\n",
       "      <td>-0.973847</td>\n",
       "      <td>1</td>\n",
       "    </tr>\n",
       "    <tr>\n",
       "      <th>4436</th>\n",
       "      <td>-0.877856</td>\n",
       "      <td>-0.236514</td>\n",
       "      <td>-0.748194</td>\n",
       "      <td>-0.973847</td>\n",
       "      <td>1</td>\n",
       "    </tr>\n",
       "  </tbody>\n",
       "</table>\n",
       "<p>4437 rows × 5 columns</p>\n",
       "</div>"
      ],
      "text/plain": [
       "      path_len  num_hyphen  num_slash  num_number  label\n",
       "0    -1.297699   -0.236514  -1.468311   -0.973847      1\n",
       "1    -1.245219   -0.236514  -1.468311   -0.973847      1\n",
       "2    -1.245219   -0.236514  -1.468311   -0.973847      1\n",
       "3    -1.245219   -0.236514  -1.468311   -0.973847      1\n",
       "4    -1.245219   -0.236514  -1.468311   -0.973847      1\n",
       "...        ...         ...        ...         ...    ...\n",
       "4432 -0.720414   -0.236514  -0.748194   -0.973847      1\n",
       "4433 -0.720414   -0.236514  -0.748194   -0.973847      1\n",
       "4434 -0.720414   -0.236514  -0.748194   -0.973847      1\n",
       "4435 -1.245219   -0.236514  -1.468311   -0.973847      1\n",
       "4436 -0.877856   -0.236514  -0.748194   -0.973847      1\n",
       "\n",
       "[4437 rows x 5 columns]"
      ]
     },
     "execution_count": 8,
     "metadata": {},
     "output_type": "execute_result"
    }
   ],
   "source": [
    "links_ = links_sca.copy()\n",
    "links_[\"label\"] = output_targets\n",
    "links_"
   ]
  },
  {
   "cell_type": "code",
   "execution_count": 9,
   "id": "boring-maria",
   "metadata": {},
   "outputs": [],
   "source": [
    "import math\n",
    "import numpy as np\n",
    "# Choose the first 90% of the examples for training.\n",
    "n_links = len(links_df)\n",
    "train_len = int(math.floor(0.85*n_links))\n",
    "validation_len = int(n_links - train_len)\n",
    "\n",
    "links_input = links_.reindex(np.random.permutation(links_.index))\n",
    "\n",
    "training_input = links_input.head(train_len)\n",
    "validation_input = links_input.tail(validation_len)"
   ]
  },
  {
   "cell_type": "code",
   "execution_count": 10,
   "id": "protective-feelings",
   "metadata": {},
   "outputs": [],
   "source": [
    "training_examples = training_input[[\"path_len\",\"num_hyphen\",\"num_slash\",\"num_number\"]]\n",
    "training_targets = training_input[[\"label\"]]\n",
    "\n",
    "validation_examples = validation_input[[\"path_len\",\"num_hyphen\",\"num_slash\",\"num_number\"]]\n",
    "validation_targets = validation_input[[\"label\"]]"
   ]
  },
  {
   "cell_type": "code",
   "execution_count": 11,
   "id": "explicit-treaty",
   "metadata": {},
   "outputs": [
    {
     "name": "stdout",
     "output_type": "stream",
     "text": [
      "Training examples summary:\n"
     ]
    },
    {
     "data": {
      "text/html": [
       "<div>\n",
       "<style scoped>\n",
       "    .dataframe tbody tr th:only-of-type {\n",
       "        vertical-align: middle;\n",
       "    }\n",
       "\n",
       "    .dataframe tbody tr th {\n",
       "        vertical-align: top;\n",
       "    }\n",
       "\n",
       "    .dataframe thead th {\n",
       "        text-align: right;\n",
       "    }\n",
       "</style>\n",
       "<table border=\"1\" class=\"dataframe\">\n",
       "  <thead>\n",
       "    <tr style=\"text-align: right;\">\n",
       "      <th></th>\n",
       "      <th>path_len</th>\n",
       "      <th>num_hyphen</th>\n",
       "      <th>num_slash</th>\n",
       "      <th>num_number</th>\n",
       "    </tr>\n",
       "  </thead>\n",
       "  <tbody>\n",
       "    <tr>\n",
       "      <th>count</th>\n",
       "      <td>3771.000000</td>\n",
       "      <td>3771.000000</td>\n",
       "      <td>3771.000000</td>\n",
       "      <td>3771.000000</td>\n",
       "    </tr>\n",
       "    <tr>\n",
       "      <th>mean</th>\n",
       "      <td>-0.012478</td>\n",
       "      <td>-0.004550</td>\n",
       "      <td>-0.008027</td>\n",
       "      <td>-0.004101</td>\n",
       "    </tr>\n",
       "    <tr>\n",
       "      <th>std</th>\n",
       "      <td>1.010950</td>\n",
       "      <td>0.990985</td>\n",
       "      <td>1.003711</td>\n",
       "      <td>1.008366</td>\n",
       "    </tr>\n",
       "    <tr>\n",
       "      <th>min</th>\n",
       "      <td>-1.297699</td>\n",
       "      <td>-0.236514</td>\n",
       "      <td>-1.468311</td>\n",
       "      <td>-0.973847</td>\n",
       "    </tr>\n",
       "    <tr>\n",
       "      <th>25%</th>\n",
       "      <td>-0.615454</td>\n",
       "      <td>-0.236514</td>\n",
       "      <td>-0.748194</td>\n",
       "      <td>-0.973847</td>\n",
       "    </tr>\n",
       "    <tr>\n",
       "      <th>50%</th>\n",
       "      <td>-0.090649</td>\n",
       "      <td>-0.236514</td>\n",
       "      <td>-0.028078</td>\n",
       "      <td>-0.218677</td>\n",
       "    </tr>\n",
       "    <tr>\n",
       "      <th>75%</th>\n",
       "      <td>0.381675</td>\n",
       "      <td>-0.236514</td>\n",
       "      <td>0.692039</td>\n",
       "      <td>0.914079</td>\n",
       "    </tr>\n",
       "    <tr>\n",
       "      <th>max</th>\n",
       "      <td>15.548522</td>\n",
       "      <td>9.169237</td>\n",
       "      <td>5.012739</td>\n",
       "      <td>12.996799</td>\n",
       "    </tr>\n",
       "  </tbody>\n",
       "</table>\n",
       "</div>"
      ],
      "text/plain": [
       "          path_len   num_hyphen    num_slash   num_number\n",
       "count  3771.000000  3771.000000  3771.000000  3771.000000\n",
       "mean     -0.012478    -0.004550    -0.008027    -0.004101\n",
       "std       1.010950     0.990985     1.003711     1.008366\n",
       "min      -1.297699    -0.236514    -1.468311    -0.973847\n",
       "25%      -0.615454    -0.236514    -0.748194    -0.973847\n",
       "50%      -0.090649    -0.236514    -0.028078    -0.218677\n",
       "75%       0.381675    -0.236514     0.692039     0.914079\n",
       "max      15.548522     9.169237     5.012739    12.996799"
      ]
     },
     "metadata": {},
     "output_type": "display_data"
    },
    {
     "name": "stdout",
     "output_type": "stream",
     "text": [
      "Validation examples summary:\n"
     ]
    },
    {
     "data": {
      "text/html": [
       "<div>\n",
       "<style scoped>\n",
       "    .dataframe tbody tr th:only-of-type {\n",
       "        vertical-align: middle;\n",
       "    }\n",
       "\n",
       "    .dataframe tbody tr th {\n",
       "        vertical-align: top;\n",
       "    }\n",
       "\n",
       "    .dataframe thead th {\n",
       "        text-align: right;\n",
       "    }\n",
       "</style>\n",
       "<table border=\"1\" class=\"dataframe\">\n",
       "  <thead>\n",
       "    <tr style=\"text-align: right;\">\n",
       "      <th></th>\n",
       "      <th>path_len</th>\n",
       "      <th>num_hyphen</th>\n",
       "      <th>num_slash</th>\n",
       "      <th>num_number</th>\n",
       "    </tr>\n",
       "  </thead>\n",
       "  <tbody>\n",
       "    <tr>\n",
       "      <th>count</th>\n",
       "      <td>666.000000</td>\n",
       "      <td>666.000000</td>\n",
       "      <td>666.000000</td>\n",
       "      <td>666.000000</td>\n",
       "    </tr>\n",
       "    <tr>\n",
       "      <th>mean</th>\n",
       "      <td>0.070653</td>\n",
       "      <td>0.025766</td>\n",
       "      <td>0.045448</td>\n",
       "      <td>0.023220</td>\n",
       "    </tr>\n",
       "    <tr>\n",
       "      <th>std</th>\n",
       "      <td>0.933963</td>\n",
       "      <td>1.050707</td>\n",
       "      <td>0.978990</td>\n",
       "      <td>0.952425</td>\n",
       "    </tr>\n",
       "    <tr>\n",
       "      <th>min</th>\n",
       "      <td>-1.245219</td>\n",
       "      <td>-0.236514</td>\n",
       "      <td>-1.468311</td>\n",
       "      <td>-0.973847</td>\n",
       "    </tr>\n",
       "    <tr>\n",
       "      <th>25%</th>\n",
       "      <td>-0.510493</td>\n",
       "      <td>-0.236514</td>\n",
       "      <td>-0.748194</td>\n",
       "      <td>-0.973847</td>\n",
       "    </tr>\n",
       "    <tr>\n",
       "      <th>50%</th>\n",
       "      <td>0.014312</td>\n",
       "      <td>-0.236514</td>\n",
       "      <td>-0.028078</td>\n",
       "      <td>-0.218677</td>\n",
       "    </tr>\n",
       "    <tr>\n",
       "      <th>75%</th>\n",
       "      <td>0.539116</td>\n",
       "      <td>-0.236514</td>\n",
       "      <td>0.692039</td>\n",
       "      <td>0.914079</td>\n",
       "    </tr>\n",
       "    <tr>\n",
       "      <th>max</th>\n",
       "      <td>7.728937</td>\n",
       "      <td>9.169237</td>\n",
       "      <td>5.012739</td>\n",
       "      <td>2.927865</td>\n",
       "    </tr>\n",
       "  </tbody>\n",
       "</table>\n",
       "</div>"
      ],
      "text/plain": [
       "         path_len  num_hyphen   num_slash  num_number\n",
       "count  666.000000  666.000000  666.000000  666.000000\n",
       "mean     0.070653    0.025766    0.045448    0.023220\n",
       "std      0.933963    1.050707    0.978990    0.952425\n",
       "min     -1.245219   -0.236514   -1.468311   -0.973847\n",
       "25%     -0.510493   -0.236514   -0.748194   -0.973847\n",
       "50%      0.014312   -0.236514   -0.028078   -0.218677\n",
       "75%      0.539116   -0.236514    0.692039    0.914079\n",
       "max      7.728937    9.169237    5.012739    2.927865"
      ]
     },
     "metadata": {},
     "output_type": "display_data"
    },
    {
     "name": "stdout",
     "output_type": "stream",
     "text": [
      "Training targets summary:\n"
     ]
    },
    {
     "data": {
      "text/html": [
       "<div>\n",
       "<style scoped>\n",
       "    .dataframe tbody tr th:only-of-type {\n",
       "        vertical-align: middle;\n",
       "    }\n",
       "\n",
       "    .dataframe tbody tr th {\n",
       "        vertical-align: top;\n",
       "    }\n",
       "\n",
       "    .dataframe thead th {\n",
       "        text-align: right;\n",
       "    }\n",
       "</style>\n",
       "<table border=\"1\" class=\"dataframe\">\n",
       "  <thead>\n",
       "    <tr style=\"text-align: right;\">\n",
       "      <th></th>\n",
       "      <th>label</th>\n",
       "    </tr>\n",
       "  </thead>\n",
       "  <tbody>\n",
       "    <tr>\n",
       "      <th>count</th>\n",
       "      <td>3771.000000</td>\n",
       "    </tr>\n",
       "    <tr>\n",
       "      <th>mean</th>\n",
       "      <td>0.477327</td>\n",
       "    </tr>\n",
       "    <tr>\n",
       "      <th>std</th>\n",
       "      <td>0.499552</td>\n",
       "    </tr>\n",
       "    <tr>\n",
       "      <th>min</th>\n",
       "      <td>0.000000</td>\n",
       "    </tr>\n",
       "    <tr>\n",
       "      <th>25%</th>\n",
       "      <td>0.000000</td>\n",
       "    </tr>\n",
       "    <tr>\n",
       "      <th>50%</th>\n",
       "      <td>0.000000</td>\n",
       "    </tr>\n",
       "    <tr>\n",
       "      <th>75%</th>\n",
       "      <td>1.000000</td>\n",
       "    </tr>\n",
       "    <tr>\n",
       "      <th>max</th>\n",
       "      <td>1.000000</td>\n",
       "    </tr>\n",
       "  </tbody>\n",
       "</table>\n",
       "</div>"
      ],
      "text/plain": [
       "             label\n",
       "count  3771.000000\n",
       "mean      0.477327\n",
       "std       0.499552\n",
       "min       0.000000\n",
       "25%       0.000000\n",
       "50%       0.000000\n",
       "75%       1.000000\n",
       "max       1.000000"
      ]
     },
     "metadata": {},
     "output_type": "display_data"
    },
    {
     "name": "stdout",
     "output_type": "stream",
     "text": [
      "Validation targets summary:\n"
     ]
    },
    {
     "data": {
      "text/html": [
       "<div>\n",
       "<style scoped>\n",
       "    .dataframe tbody tr th:only-of-type {\n",
       "        vertical-align: middle;\n",
       "    }\n",
       "\n",
       "    .dataframe tbody tr th {\n",
       "        vertical-align: top;\n",
       "    }\n",
       "\n",
       "    .dataframe thead th {\n",
       "        text-align: right;\n",
       "    }\n",
       "</style>\n",
       "<table border=\"1\" class=\"dataframe\">\n",
       "  <thead>\n",
       "    <tr style=\"text-align: right;\">\n",
       "      <th></th>\n",
       "      <th>label</th>\n",
       "    </tr>\n",
       "  </thead>\n",
       "  <tbody>\n",
       "    <tr>\n",
       "      <th>count</th>\n",
       "      <td>666.000000</td>\n",
       "    </tr>\n",
       "    <tr>\n",
       "      <th>mean</th>\n",
       "      <td>0.451952</td>\n",
       "    </tr>\n",
       "    <tr>\n",
       "      <th>std</th>\n",
       "      <td>0.498060</td>\n",
       "    </tr>\n",
       "    <tr>\n",
       "      <th>min</th>\n",
       "      <td>0.000000</td>\n",
       "    </tr>\n",
       "    <tr>\n",
       "      <th>25%</th>\n",
       "      <td>0.000000</td>\n",
       "    </tr>\n",
       "    <tr>\n",
       "      <th>50%</th>\n",
       "      <td>0.000000</td>\n",
       "    </tr>\n",
       "    <tr>\n",
       "      <th>75%</th>\n",
       "      <td>1.000000</td>\n",
       "    </tr>\n",
       "    <tr>\n",
       "      <th>max</th>\n",
       "      <td>1.000000</td>\n",
       "    </tr>\n",
       "  </tbody>\n",
       "</table>\n",
       "</div>"
      ],
      "text/plain": [
       "            label\n",
       "count  666.000000\n",
       "mean     0.451952\n",
       "std      0.498060\n",
       "min      0.000000\n",
       "25%      0.000000\n",
       "50%      0.000000\n",
       "75%      1.000000\n",
       "max      1.000000"
      ]
     },
     "metadata": {},
     "output_type": "display_data"
    }
   ],
   "source": [
    "from IPython import display\n",
    "\n",
    "print(\"Training examples summary:\")\n",
    "display.display(training_examples.describe())\n",
    "print(\"Validation examples summary:\")\n",
    "display.display(validation_examples.describe())\n",
    "\n",
    "print(\"Training targets summary:\")\n",
    "display.display(training_targets.describe())\n",
    "print(\"Validation targets summary:\")\n",
    "display.display(validation_targets.describe())"
   ]
  },
  {
   "cell_type": "code",
   "execution_count": 12,
   "id": "accomplished-custom",
   "metadata": {},
   "outputs": [],
   "source": [
    "from sklearn.model_selection import train_test_split, GroupKFold, cross_val_score\n",
    "from sklearn.linear_model import LogisticRegression, LogisticRegressionCV, SGDClassifier"
   ]
  },
  {
   "cell_type": "code",
   "execution_count": 13,
   "id": "cooked-rebound",
   "metadata": {},
   "outputs": [
    {
     "name": "stdout",
     "output_type": "stream",
     "text": [
      "Logit 0.81832\n",
      "SGD 0.80030\n"
     ]
    },
    {
     "name": "stderr",
     "output_type": "stream",
     "text": [
      "/home/icejm/.conda/envs/openwpm/lib/python3.8/site-packages/sklearn/utils/validation.py:63: DataConversionWarning: A column-vector y was passed when a 1d array was expected. Please change the shape of y to (n_samples, ), for example using ravel().\n",
      "  return f(*args, **kwargs)\n",
      "/home/icejm/.conda/envs/openwpm/lib/python3.8/site-packages/sklearn/utils/validation.py:63: DataConversionWarning: A column-vector y was passed when a 1d array was expected. Please change the shape of y to (n_samples, ), for example using ravel().\n",
      "  return f(*args, **kwargs)\n"
     ]
    }
   ],
   "source": [
    "gkf = GroupKFold(n_splits=5)\n",
    "\n",
    "clf = LogisticRegression(solver=\"lbfgs\", C=0.05, penalty=\"l2\").fit(training_examples, training_targets.values)\n",
    "sgd_clf = SGDClassifier(loss=\"log\", max_iter=10000, alpha=0.01,\n",
    "                        learning_rate=\"optimal\").\\\n",
    "                        fit(training_examples, training_targets.values)\n",
    "# logit_scores = cross_val_score(clf, training_examples,\n",
    "#                                training_targets.values,\n",
    "#                                cv=gkf, groups=training_groups)\n",
    "\n",
    "# sgd_scores = cross_val_score(sgd_clf, training_examples,\n",
    "#                              training_targets.values,\n",
    "#                              cv=gkf, groups=training_groups)\n",
    "\n",
    "# print(\"Logit Accuracy: %0.2f (+/- %0.2f)\" % (logit_scores.mean(), logit_scores.std() * 2))\n",
    "# print(\"SGD Accuracy: %0.2f (+/- %0.2f)\" % (sgd_scores.mean(), sgd_scores.std() * 2))\n",
    "\n",
    "print(\"Logit\", \"%0.5f\" % clf.score(validation_examples, validation_targets))\n",
    "print(\"SGD\", \"%0.5f\" % sgd_clf.score(validation_examples, validation_targets))"
   ]
  },
  {
   "cell_type": "code",
   "execution_count": 14,
   "id": "martial-fiction",
   "metadata": {},
   "outputs": [],
   "source": [
    "from sklearn import svm"
   ]
  },
  {
   "cell_type": "code",
   "execution_count": 15,
   "id": "sporting-advertiser",
   "metadata": {},
   "outputs": [
    {
     "name": "stderr",
     "output_type": "stream",
     "text": [
      "/home/icejm/.conda/envs/openwpm/lib/python3.8/site-packages/sklearn/utils/validation.py:63: DataConversionWarning: A column-vector y was passed when a 1d array was expected. Please change the shape of y to (n_samples, ), for example using ravel().\n",
      "  return f(*args, **kwargs)\n"
     ]
    },
    {
     "name": "stdout",
     "output_type": "stream",
     "text": [
      "SVM 0.87387\n"
     ]
    }
   ],
   "source": [
    "svm_clf = svm.SVC().fit(training_examples, training_targets.values)\n",
    "print(\"SVM\", \"%0.5f\" % svm_clf.score(validation_examples, validation_targets))"
   ]
  },
  {
   "cell_type": "code",
   "execution_count": 16,
   "id": "executed-louisiana",
   "metadata": {},
   "outputs": [],
   "source": [
    "from sklearn import tree"
   ]
  },
  {
   "cell_type": "code",
   "execution_count": 17,
   "id": "standard-lancaster",
   "metadata": {},
   "outputs": [
    {
     "name": "stdout",
     "output_type": "stream",
     "text": [
      "Tree 0.93544\n"
     ]
    }
   ],
   "source": [
    "tree_clf = tree.DecisionTreeClassifier().fit(training_examples, training_targets.values)\n",
    "print(\"Tree\", \"%0.5f\" % tree_clf.score(validation_examples, validation_targets))"
   ]
  },
  {
   "cell_type": "code",
   "execution_count": 18,
   "id": "about-kruger",
   "metadata": {},
   "outputs": [],
   "source": [
    "import pickle\n",
    "model_filename = 'DTClassifier.est'\n",
    "\n",
    "final_tree_clf = tree.DecisionTreeClassifier().fit(links_input[[\"path_len\",\"num_hyphen\",\"num_slash\",\"num_number\"]]\n",
    "                                                   , links_input[[\"label\"]])\n",
    "\n",
    "pickle.dump(tree_clf, open(model_filename, 'wb'))"
   ]
  },
  {
   "cell_type": "code",
   "execution_count": 19,
   "id": "metallic-ceremony",
   "metadata": {},
   "outputs": [
    {
     "data": {
      "text/html": [
       "<div>\n",
       "<style scoped>\n",
       "    .dataframe tbody tr th:only-of-type {\n",
       "        vertical-align: middle;\n",
       "    }\n",
       "\n",
       "    .dataframe tbody tr th {\n",
       "        vertical-align: top;\n",
       "    }\n",
       "\n",
       "    .dataframe thead th {\n",
       "        text-align: right;\n",
       "    }\n",
       "</style>\n",
       "<table border=\"1\" class=\"dataframe\">\n",
       "  <thead>\n",
       "    <tr style=\"text-align: right;\">\n",
       "      <th></th>\n",
       "      <th>url</th>\n",
       "      <th>label</th>\n",
       "    </tr>\n",
       "  </thead>\n",
       "  <tbody>\n",
       "    <tr>\n",
       "      <th>0</th>\n",
       "      <td>http://www.17ok.com/foundation201862.shtml</td>\n",
       "      <td>1</td>\n",
       "    </tr>\n",
       "    <tr>\n",
       "      <th>1</th>\n",
       "      <td>http://www.17ok.com/thirdboard201862.shtml</td>\n",
       "      <td>1</td>\n",
       "    </tr>\n",
       "    <tr>\n",
       "      <th>2</th>\n",
       "      <td>http://stock.17ok.com/news/335/2020/1020/27036...</td>\n",
       "      <td>0</td>\n",
       "    </tr>\n",
       "    <tr>\n",
       "      <th>3</th>\n",
       "      <td>http://www.17ok.com/money201862.shtml</td>\n",
       "      <td>1</td>\n",
       "    </tr>\n",
       "    <tr>\n",
       "      <th>4</th>\n",
       "      <td>http://finance.17ok.com/news/4/2021/0317/27084...</td>\n",
       "      <td>0</td>\n",
       "    </tr>\n",
       "  </tbody>\n",
       "</table>\n",
       "</div>"
      ],
      "text/plain": [
       "                                                 url  label\n",
       "0         http://www.17ok.com/foundation201862.shtml      1\n",
       "1         http://www.17ok.com/thirdboard201862.shtml      1\n",
       "2  http://stock.17ok.com/news/335/2020/1020/27036...      0\n",
       "3              http://www.17ok.com/money201862.shtml      1\n",
       "4  http://finance.17ok.com/news/4/2021/0317/27084...      0"
      ]
     },
     "execution_count": 19,
     "metadata": {},
     "output_type": "execute_result"
    }
   ],
   "source": [
    "test=[[\"http://www.17ok.com/foundation201862.shtml\",1],\n",
    "    [\"http://www.17ok.com/thirdboard201862.shtml\",1],\n",
    "    [\"http://stock.17ok.com/news/335/2020/1020/2703697.html\",0],\n",
    "    [\"http://www.17ok.com/money201862.shtml\",1],\n",
    "    [\"http://finance.17ok.com/news/4/2021/0317/2708464.html\",0],\n",
    "    [\"http://finance.17ok.com/news/4/2021/0317/2708440.html\",0],\n",
    "    [\"http://finance.17ok.com/news/4/2021/0317/2708438.html\",0],\n",
    "    [\"http://finance.17ok.com/news/4/2021/0317/2708462.html\",0],\n",
    "    [\"http://finance.17ok.com/news/4/2021/0317/2708448.html\",0],\n",
    "    [\"http://finance.17ok.com/news/4/2021/0317/2708457.html\",0],\n",
    "    [\"http://finance.17ok.com/news/4/2021/0317/2708458.html\",0],\n",
    "    [\"http://finance.17ok.com/news/4/2021/0317/2708447.html\",0],\n",
    "    [\"http://finance.17ok.com/news/4/2021/0317/2708449.html\",0],\n",
    "    [\"http://finance.17ok.com/news/4/2021/0317/2708437.html\",0],\n",
    "    [\"http://www.17ok.com/financial201862.shtml\",1],\n",
    "    [\"http://www.17ok.com/internet201862.shtml\",1],\n",
    "    [\"http://finance.17ok.com/news/4/2020/1020/2703669.html\",0],\n",
    "    [\"http://finance.17ok.com/news/4/2020/1019/2703656.html\",0],\n",
    "    [\"http://hk.eastmoney.com/\",1],\n",
    "    [\"http://futures.eastmoney.com/\",1],\n",
    "    [\"http://forex.eastmoney.com/\",1],\n",
    "    [\"http://bank.eastmoney.com/\",1],\n",
    "    [\"http://money.eastmoney.com/\",1],\n",
    "    [\"http://bond.eastmoney.com/\",1],\n",
    "    [\"http://video.eastmoney.com/\",1],\n",
    "    [\"http://guba.eastmoney.com/\",1],\n",
    "    [\"http://guba.eastmoney.com/jj.html\",1],\n",
    "    [\"http://blog.eastmoney.com/\",1],\n",
    "    [\"http://caifuhao.eastmoney.com/\",1],\n",
    "    [\"http://so.eastmoney.com/\",1],\n",
    "    [\"http://kuaixun.eastmoney.com/\",1],\n",
    "    [\"http://quote.eastmoney.com/center/\",1],\n",
    "    [\"http://data.eastmoney.com/center/\",1],\n",
    "    [\"https://acttg.eastmoney.com/pub/pctg_hskh_act_gfcgrj_01_01_01_0\",1],\n",
    "    [\"http://stock.eastmoney.com/bidu.html\",1]]\n",
    "test_url = pd.DataFrame(test)\n",
    "test_url = test_url.rename(columns={0:\"url\", 1:\"label\"})\n",
    "test_url.head()"
   ]
  },
  {
   "cell_type": "code",
   "execution_count": 20,
   "id": "broke-practice",
   "metadata": {},
   "outputs": [],
   "source": [
    "test_examples = build_features(test_url[[\"url\"]])\n",
    "test_targets = test_url[[\"label\"]]"
   ]
  },
  {
   "cell_type": "code",
   "execution_count": 24,
   "id": "settled-plasma",
   "metadata": {},
   "outputs": [
    {
     "name": "stdout",
     "output_type": "stream",
     "text": [
      "Tree 0.91429\n"
     ]
    },
    {
     "data": {
      "text/plain": [
       "array([1, 1, 0, 0, 0, 0, 0, 0, 0, 0, 0, 0, 0, 0, 0, 0, 0, 0, 1, 1, 1, 1,\n",
       "       1, 1, 1, 1, 1, 1, 1, 1, 1, 1, 1, 1, 1])"
      ]
     },
     "execution_count": 24,
     "metadata": {},
     "output_type": "execute_result"
    }
   ],
   "source": [
    "file_tree_est = pickle.load(open(model_filename, 'rb'))\n",
    "\n",
    "print(\"Tree\", \"%0.5f\" % file_tree_est.score(test_examples, test_targets))\n",
    "file_tree_est.predict(test_examples)"
   ]
  },
  {
   "cell_type": "code",
   "execution_count": 25,
   "id": "fossil-employee",
   "metadata": {},
   "outputs": [
    {
     "name": "stdout",
     "output_type": "stream",
     "text": [
      "SVM 0.85714\n",
      "Logit 1.00000\n",
      "SGD 1.00000\n"
     ]
    }
   ],
   "source": [
    "print(\"SVM\", \"%0.5f\" % svm_clf.score(test_examples, test_targets))\n",
    "print(\"Logit\", \"%0.5f\" % clf.score(test_examples, test_targets))\n",
    "print(\"SGD\", \"%0.5f\" % sgd_clf.score(test_examples, test_targets))"
   ]
  },
  {
   "cell_type": "code",
   "execution_count": 26,
   "id": "amber-burns",
   "metadata": {},
   "outputs": [
    {
     "data": {
      "text/plain": [
       "array([0, 0, 0, 0, 0, 0, 0, 0, 0, 0, 0, 0, 0, 0, 0, 0, 0, 0, 1, 1, 1, 1,\n",
       "       1, 1, 1, 1, 1, 1, 1, 1, 1, 1, 1, 1, 1])"
      ]
     },
     "execution_count": 26,
     "metadata": {},
     "output_type": "execute_result"
    }
   ],
   "source": [
    "svm_clf.predict(test_examples)"
   ]
  },
  {
   "cell_type": "code",
   "execution_count": 27,
   "id": "square-ethiopia",
   "metadata": {},
   "outputs": [
    {
     "data": {
      "text/plain": [
       "array([1, 1, 0, 1, 0, 0, 0, 0, 0, 0, 0, 0, 0, 0, 1, 1, 0, 0, 1, 1, 1, 1,\n",
       "       1, 1, 1, 1, 1, 1, 1, 1, 1, 1, 1, 1, 1])"
      ]
     },
     "execution_count": 27,
     "metadata": {},
     "output_type": "execute_result"
    }
   ],
   "source": [
    "clf.predict(test_examples)"
   ]
  },
  {
   "cell_type": "code",
   "execution_count": 29,
   "id": "historic-alabama",
   "metadata": {},
   "outputs": [
    {
     "data": {
      "text/plain": [
       "array([1, 1, 0, 1, 0, 0, 0, 0, 0, 0, 0, 0, 0, 0, 1, 1, 0, 0, 1, 1, 1, 1,\n",
       "       1, 1, 1, 1, 1, 1, 1, 1, 1, 1, 1, 1, 1])"
      ]
     },
     "execution_count": 29,
     "metadata": {},
     "output_type": "execute_result"
    }
   ],
   "source": [
    "sgd_clf.predict(test_examples)"
   ]
  },
  {
   "cell_type": "code",
   "execution_count": null,
   "id": "blond-syntax",
   "metadata": {},
   "outputs": [],
   "source": []
  }
 ],
 "metadata": {
  "kernelspec": {
   "display_name": "Python 3",
   "language": "python",
   "name": "python3"
  },
  "language_info": {
   "codemirror_mode": {
    "name": "ipython",
    "version": 3
   },
   "file_extension": ".py",
   "mimetype": "text/x-python",
   "name": "python",
   "nbconvert_exporter": "python",
   "pygments_lexer": "ipython3",
   "version": "3.8.8"
  }
 },
 "nbformat": 4,
 "nbformat_minor": 5
}
