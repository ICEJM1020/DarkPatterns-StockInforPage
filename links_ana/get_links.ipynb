{
 "cells": [
  {
   "cell_type": "code",
   "execution_count": 1,
   "id": "anonymous-sheriff",
   "metadata": {},
   "outputs": [],
   "source": [
    "import os\n",
    "import re"
   ]
  },
  {
   "cell_type": "code",
   "execution_count": 2,
   "id": "mature-tyler",
   "metadata": {},
   "outputs": [],
   "source": [
    "file_list = []\n",
    "for root, dirs, files in os.walk(os.path.abspath('.')):\n",
    "    file_list.append(files)"
   ]
  },
  {
   "cell_type": "code",
   "execution_count": 3,
   "id": "awful-newsletter",
   "metadata": {},
   "outputs": [],
   "source": [
    "list_name = file_list[0]"
   ]
  },
  {
   "cell_type": "code",
   "execution_count": 4,
   "id": "simplified-remedy",
   "metadata": {},
   "outputs": [],
   "source": [
    "links = []\n",
    "for i in list_name:\n",
    "    if i.endswith(\".json\"):\n",
    "        with open(i,\"r\") as f:\n",
    "            text = f.read()\n",
    "            temp_list = re.findall(\"\\\"(.*)\\\"\", text)\n",
    "            links += temp_list"
   ]
  },
  {
   "cell_type": "code",
   "execution_count": 5,
   "id": "blessed-anniversary",
   "metadata": {},
   "outputs": [
    {
     "data": {
      "text/plain": [
       "22957"
      ]
     },
     "execution_count": 5,
     "metadata": {},
     "output_type": "execute_result"
    }
   ],
   "source": [
    "len(links)"
   ]
  },
  {
   "cell_type": "code",
   "execution_count": 6,
   "id": "italian-belief",
   "metadata": {},
   "outputs": [],
   "source": [
    "num=0\n",
    "new_list = []\n",
    "for i in links:\n",
    "    i.replace(\"\\\"\", \"\")\n",
    "    if num%3 == 0:\n",
    "        new_list.append(i)\n",
    "    num += 1"
   ]
  },
  {
   "cell_type": "code",
   "execution_count": 7,
   "id": "under-newsletter",
   "metadata": {},
   "outputs": [
    {
     "data": {
      "text/plain": [
       "7653"
      ]
     },
     "execution_count": 7,
     "metadata": {},
     "output_type": "execute_result"
    }
   ],
   "source": [
    "len(new_list)"
   ]
  },
  {
   "cell_type": "code",
   "execution_count": 8,
   "id": "structured-wholesale",
   "metadata": {},
   "outputs": [],
   "source": [
    "import pandas as pd\n",
    "pd_links = pd.DataFrame(new_list)\n",
    "pd_links.to_csv(\"links.csv\")"
   ]
  },
  {
   "cell_type": "code",
   "execution_count": 9,
   "id": "collect-partner",
   "metadata": {},
   "outputs": [
    {
     "data": {
      "text/html": [
       "<div>\n",
       "<style scoped>\n",
       "    .dataframe tbody tr th:only-of-type {\n",
       "        vertical-align: middle;\n",
       "    }\n",
       "\n",
       "    .dataframe tbody tr th {\n",
       "        vertical-align: top;\n",
       "    }\n",
       "\n",
       "    .dataframe thead th {\n",
       "        text-align: right;\n",
       "    }\n",
       "</style>\n",
       "<table border=\"1\" class=\"dataframe\">\n",
       "  <thead>\n",
       "    <tr style=\"text-align: right;\">\n",
       "      <th></th>\n",
       "      <th>0</th>\n",
       "    </tr>\n",
       "  </thead>\n",
       "  <tbody>\n",
       "    <tr>\n",
       "      <th>0</th>\n",
       "      <td>http://stock.cnfol.com</td>\n",
       "    </tr>\n",
       "    <tr>\n",
       "      <th>1</th>\n",
       "      <td>http://www.cnfol.com/</td>\n",
       "    </tr>\n",
       "    <tr>\n",
       "      <th>2</th>\n",
       "      <td>http://gold.cnfol.com/</td>\n",
       "    </tr>\n",
       "    <tr>\n",
       "      <th>3</th>\n",
       "      <td>http://money.cnfol.com/</td>\n",
       "    </tr>\n",
       "    <tr>\n",
       "      <th>4</th>\n",
       "      <td>http://video.cnfol.com/</td>\n",
       "    </tr>\n",
       "    <tr>\n",
       "      <th>...</th>\n",
       "      <td>...</td>\n",
       "    </tr>\n",
       "    <tr>\n",
       "      <th>7648</th>\n",
       "      <td>http://industry.caijing.com.cn/index.html</td>\n",
       "    </tr>\n",
       "    <tr>\n",
       "      <th>7649</th>\n",
       "      <td>http://estate.caijing.com.cn/index.html</td>\n",
       "    </tr>\n",
       "    <tr>\n",
       "      <th>7650</th>\n",
       "      <td>http://life.caijing.com.cn/index.html</td>\n",
       "    </tr>\n",
       "    <tr>\n",
       "      <th>7651</th>\n",
       "      <td>http://column.caijing.com.cn/</td>\n",
       "    </tr>\n",
       "    <tr>\n",
       "      <th>7652</th>\n",
       "      <td>http://corp.caijing.com.cn/joinus/</td>\n",
       "    </tr>\n",
       "  </tbody>\n",
       "</table>\n",
       "<p>7653 rows × 1 columns</p>\n",
       "</div>"
      ],
      "text/plain": [
       "                                              0\n",
       "0                        http://stock.cnfol.com\n",
       "1                         http://www.cnfol.com/\n",
       "2                        http://gold.cnfol.com/\n",
       "3                       http://money.cnfol.com/\n",
       "4                       http://video.cnfol.com/\n",
       "...                                         ...\n",
       "7648  http://industry.caijing.com.cn/index.html\n",
       "7649    http://estate.caijing.com.cn/index.html\n",
       "7650      http://life.caijing.com.cn/index.html\n",
       "7651              http://column.caijing.com.cn/\n",
       "7652         http://corp.caijing.com.cn/joinus/\n",
       "\n",
       "[7653 rows x 1 columns]"
      ]
     },
     "execution_count": 9,
     "metadata": {},
     "output_type": "execute_result"
    }
   ],
   "source": [
    "pd_links"
   ]
  },
  {
   "cell_type": "code",
   "execution_count": null,
   "id": "failing-nashville",
   "metadata": {},
   "outputs": [],
   "source": []
  }
 ],
 "metadata": {
  "kernelspec": {
   "display_name": "Python 3",
   "language": "python",
   "name": "python3"
  },
  "language_info": {
   "codemirror_mode": {
    "name": "ipython",
    "version": 3
   },
   "file_extension": ".py",
   "mimetype": "text/x-python",
   "name": "python",
   "nbconvert_exporter": "python",
   "pygments_lexer": "ipython3",
   "version": "3.8.8"
  }
 },
 "nbformat": 4,
 "nbformat_minor": 5
}
