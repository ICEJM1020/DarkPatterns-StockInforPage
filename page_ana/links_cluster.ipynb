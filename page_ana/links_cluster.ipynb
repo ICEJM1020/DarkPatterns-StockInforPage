{
 "cells": [
  {
   "cell_type": "code",
   "execution_count": 28,
   "id": "choice-theme",
   "metadata": {},
   "outputs": [],
   "source": [
    "import pandas as pd\n",
    "import os\n",
    "import time\n",
    "import re\n",
    "import numpy as np\n",
    "import json\n",
    "from urllib.parse import urlparse, urljoin\n",
    "run_root = \"/home/icejm/Code/OpenWPM/stockdp/page_ana/\""
   ]
  },
  {
   "cell_type": "code",
   "execution_count": 108,
   "id": "loaded-still",
   "metadata": {},
   "outputs": [
    {
     "name": "stdout",
     "output_type": "stream",
     "text": [
      "83\n"
     ]
    }
   ],
   "source": [
    "# gather all potent/black links\n",
    "count = 0\n",
    "for root, dirs, files in os.walk(os.path.abspath('.')):\n",
    "    if len(dirs)==0:\n",
    "        for i in files:\n",
    "            if i.endswith(\".json\") and i.startswith(\"potent\"):  \n",
    "                count += 1\n",
    "                file = ((root+'/'+i).split(run_root))[1]\n",
    "                web_name = root.split('/')[-1]\n",
    "                with open(file,\"r\") as f:\n",
    "                    text = f.read() \n",
    "                    if i.startswith(\"potent\"):\n",
    "                        tmp_data = json.loads(text)\n",
    "                        for each_page in tmp_data:\n",
    "                            with open(\"potentlist.csv\", \"a+\") as potent_f:\n",
    "                                for j in tmp_data[each_page]:\n",
    "                                    j = j.replace(\",\", \"/\").replace(\"http://\", \"\").replace(\"https://\", \"\")\n",
    "                                    write_data = j+','+web_name+'\\n'\n",
    "                                    potent_f.writelines(write_data)\n",
    "print(count)"
   ]
  },
  {
   "cell_type": "code",
   "execution_count": 109,
   "id": "magnetic-museum",
   "metadata": {},
   "outputs": [
    {
     "name": "stdout",
     "output_type": "stream",
     "text": [
      "(2552, 2)\n"
     ]
    },
    {
     "data": {
      "text/html": [
       "<div>\n",
       "<style scoped>\n",
       "    .dataframe tbody tr th:only-of-type {\n",
       "        vertical-align: middle;\n",
       "    }\n",
       "\n",
       "    .dataframe tbody tr th {\n",
       "        vertical-align: top;\n",
       "    }\n",
       "\n",
       "    .dataframe thead th {\n",
       "        text-align: right;\n",
       "    }\n",
       "</style>\n",
       "<table border=\"1\" class=\"dataframe\">\n",
       "  <thead>\n",
       "    <tr style=\"text-align: right;\">\n",
       "      <th></th>\n",
       "      <th>url</th>\n",
       "      <th>website</th>\n",
       "    </tr>\n",
       "  </thead>\n",
       "  <tbody>\n",
       "    <tr>\n",
       "      <th>0</th>\n",
       "      <td>data.eastmoney.com/report/</td>\n",
       "      <td>stock.eastmoney.com</td>\n",
       "    </tr>\n",
       "    <tr>\n",
       "      <th>1</th>\n",
       "      <td>data.eastmoney.com/report/zw_stock.jshtml?enco...</td>\n",
       "      <td>stock.eastmoney.com</td>\n",
       "    </tr>\n",
       "    <tr>\n",
       "      <th>2</th>\n",
       "      <td>data.eastmoney.com/report/zw_stock.jshtml?enco...</td>\n",
       "      <td>stock.eastmoney.com</td>\n",
       "    </tr>\n",
       "    <tr>\n",
       "      <th>3</th>\n",
       "      <td>data.eastmoney.com/report/</td>\n",
       "      <td>stock.eastmoney.com</td>\n",
       "    </tr>\n",
       "    <tr>\n",
       "      <th>4</th>\n",
       "      <td>data.eastmoney.com/zjlx/detail.html</td>\n",
       "      <td>stock.eastmoney.com</td>\n",
       "    </tr>\n",
       "  </tbody>\n",
       "</table>\n",
       "</div>"
      ],
      "text/plain": [
       "                                                 url              website\n",
       "0                         data.eastmoney.com/report/  stock.eastmoney.com\n",
       "1  data.eastmoney.com/report/zw_stock.jshtml?enco...  stock.eastmoney.com\n",
       "2  data.eastmoney.com/report/zw_stock.jshtml?enco...  stock.eastmoney.com\n",
       "3                         data.eastmoney.com/report/  stock.eastmoney.com\n",
       "4                data.eastmoney.com/zjlx/detail.html  stock.eastmoney.com"
      ]
     },
     "execution_count": 109,
     "metadata": {},
     "output_type": "execute_result"
    }
   ],
   "source": [
    "potent_dp_links = pd.read_csv(\"potentlist.csv\", names=[\"url\", \"website\"])\n",
    "print(potent_dp_links.shape)\n",
    "\n",
    "potent_dp_links.head()"
   ]
  },
  {
   "cell_type": "code",
   "execution_count": 110,
   "id": "referenced-surname",
   "metadata": {},
   "outputs": [
    {
     "data": {
      "text/plain": [
       "{'stock.jrj.com.cn': 5,\n",
       " 'stock.eastmoney.com': 1614,\n",
       " 'money.163.comstock': 266,\n",
       " 'stock.stockstar.com': 3,\n",
       " 'finance.ifeng.comstock': 297,\n",
       " 'stock.cnfol.com': 6,\n",
       " 'q.stock.sohu.com': 121,\n",
       " 'finance.sina.com.cnstock': 240}"
      ]
     },
     "execution_count": 110,
     "metadata": {},
     "output_type": "execute_result"
    }
   ],
   "source": [
    "def getlistnum(li):\n",
    "    li = list(li)\n",
    "    set1 = set(li)\n",
    "    dict1 = {}\n",
    "    for item in set1:\n",
    "        dict1.update({item:li.count(item)})\n",
    "    return dict1\n",
    "\n",
    "getlistnum(potent_dp_links['website'])"
   ]
  },
  {
   "cell_type": "code",
   "execution_count": 50,
   "id": "massive-vietnam",
   "metadata": {},
   "outputs": [
    {
     "name": "stdout",
     "output_type": "stream",
     "text": [
      "data.eastmoney.com/report/zw_stock.jshtmlencodeUrl=zXF5Zl6XRyYdSx1spWVTCqDhUpdvWCPeqRcR2Jjm0qE=\n",
      "61\n",
      "21\n",
      "7\n"
     ]
    }
   ],
   "source": [
    "x = \"data.eastmoney.com/report/zw_stock.jshtml?encodeUrl=zXF5Zl6XRyYdSx1spWVTCqDhUpdvWCPeqRcR2Jjm0qE=\"\n",
    "path = urlparse(x).path + urlparse(x).params + urlparse(x).query + urlparse(x).fragment\n",
    "print(path)\n",
    "print(len(re.findall(\"([a-z])\",path)))\n",
    "print(len(re.findall(\"([A-Z])\",path)))\n",
    "print(len(re.findall(\"([/_\\.\\%&#\\-\\?])\",x)))"
   ]
  },
  {
   "cell_type": "markdown",
   "id": "worldwide-plaza",
   "metadata": {},
   "source": [
    "# Build Features"
   ]
  },
  {
   "cell_type": "markdown",
   "id": "expensive-sound",
   "metadata": {},
   "source": [
    "## 1.Basic Features\n",
    "length, num of (signs, upper characters, lower character, number)"
   ]
  },
  {
   "cell_type": "code",
   "execution_count": 111,
   "id": "nervous-friendship",
   "metadata": {},
   "outputs": [],
   "source": [
    "def build_features(df):\n",
    "    processed_features = df[[\"url\"]].copy()\n",
    "    processed_features[\"path\"] = processed_features[\"url\"].map(\n",
    "        lambda x: urlparse(x).path + urlparse(x).params + urlparse(x).query + urlparse(x).fragment)\n",
    "    processed_features[\"path_len\"] = processed_features[\"path\"].map(\n",
    "        lambda x: len(x))\n",
    "    processed_features[\"num_sign\"] = processed_features[\"url\"].map(\n",
    "        lambda x: len(re.findall(\"([/_\\.\\%&#\\-\\?])\",x)))\n",
    "    processed_features[\"num_upper_char\"] = processed_features[\"path\"].map(\n",
    "        lambda x: len(re.findall(\"([A-Z])\",x)))\n",
    "    processed_features[\"num_lower_char\"] = processed_features[\"path\"].map(\n",
    "        lambda x: len(re.findall(\"([a-z])\",x)))\n",
    "    processed_features[\"num_number\"] = processed_features[\"path\"].map(\n",
    "        lambda x: len(re.findall(\"(\\d)\",x)))\n",
    "\n",
    "    processed_features.drop(['url', 'path'], axis=1, inplace=True)\n",
    "    return processed_features"
   ]
  },
  {
   "cell_type": "code",
   "execution_count": 112,
   "id": "handmade-kennedy",
   "metadata": {},
   "outputs": [
    {
     "data": {
      "text/html": [
       "<div>\n",
       "<style scoped>\n",
       "    .dataframe tbody tr th:only-of-type {\n",
       "        vertical-align: middle;\n",
       "    }\n",
       "\n",
       "    .dataframe tbody tr th {\n",
       "        vertical-align: top;\n",
       "    }\n",
       "\n",
       "    .dataframe thead th {\n",
       "        text-align: right;\n",
       "    }\n",
       "</style>\n",
       "<table border=\"1\" class=\"dataframe\">\n",
       "  <thead>\n",
       "    <tr style=\"text-align: right;\">\n",
       "      <th></th>\n",
       "      <th>url</th>\n",
       "      <th>website</th>\n",
       "      <th>path_len</th>\n",
       "      <th>num_sign</th>\n",
       "      <th>num_upper_char</th>\n",
       "      <th>num_lower_char</th>\n",
       "      <th>num_number</th>\n",
       "    </tr>\n",
       "  </thead>\n",
       "  <tbody>\n",
       "    <tr>\n",
       "      <th>0</th>\n",
       "      <td>data.eastmoney.com/report/</td>\n",
       "      <td>stock.eastmoney.com</td>\n",
       "      <td>26</td>\n",
       "      <td>4</td>\n",
       "      <td>0</td>\n",
       "      <td>22</td>\n",
       "      <td>0</td>\n",
       "    </tr>\n",
       "    <tr>\n",
       "      <th>1</th>\n",
       "      <td>data.eastmoney.com/report/zw_stock.jshtml?enco...</td>\n",
       "      <td>stock.eastmoney.com</td>\n",
       "      <td>95</td>\n",
       "      <td>7</td>\n",
       "      <td>21</td>\n",
       "      <td>61</td>\n",
       "      <td>5</td>\n",
       "    </tr>\n",
       "    <tr>\n",
       "      <th>2</th>\n",
       "      <td>data.eastmoney.com/report/zw_stock.jshtml?enco...</td>\n",
       "      <td>stock.eastmoney.com</td>\n",
       "      <td>95</td>\n",
       "      <td>7</td>\n",
       "      <td>23</td>\n",
       "      <td>60</td>\n",
       "      <td>3</td>\n",
       "    </tr>\n",
       "    <tr>\n",
       "      <th>3</th>\n",
       "      <td>data.eastmoney.com/report/</td>\n",
       "      <td>stock.eastmoney.com</td>\n",
       "      <td>26</td>\n",
       "      <td>4</td>\n",
       "      <td>0</td>\n",
       "      <td>22</td>\n",
       "      <td>0</td>\n",
       "    </tr>\n",
       "    <tr>\n",
       "      <th>4</th>\n",
       "      <td>data.eastmoney.com/zjlx/detail.html</td>\n",
       "      <td>stock.eastmoney.com</td>\n",
       "      <td>35</td>\n",
       "      <td>5</td>\n",
       "      <td>0</td>\n",
       "      <td>30</td>\n",
       "      <td>0</td>\n",
       "    </tr>\n",
       "  </tbody>\n",
       "</table>\n",
       "</div>"
      ],
      "text/plain": [
       "                                                 url              website  \\\n",
       "0                         data.eastmoney.com/report/  stock.eastmoney.com   \n",
       "1  data.eastmoney.com/report/zw_stock.jshtml?enco...  stock.eastmoney.com   \n",
       "2  data.eastmoney.com/report/zw_stock.jshtml?enco...  stock.eastmoney.com   \n",
       "3                         data.eastmoney.com/report/  stock.eastmoney.com   \n",
       "4                data.eastmoney.com/zjlx/detail.html  stock.eastmoney.com   \n",
       "\n",
       "   path_len  num_sign  num_upper_char  num_lower_char  num_number  \n",
       "0        26         4               0              22           0  \n",
       "1        95         7              21              61           5  \n",
       "2        95         7              23              60           3  \n",
       "3        26         4               0              22           0  \n",
       "4        35         5               0              30           0  "
      ]
     },
     "execution_count": 112,
     "metadata": {},
     "output_type": "execute_result"
    }
   ],
   "source": [
    "feature = build_features(potent_dp_links)\n",
    "data = pd.concat([potent_dp_links, feature], axis = 1, ignore_index = False)\n",
    "data.head()"
   ]
  },
  {
   "cell_type": "markdown",
   "id": "assumed-explosion",
   "metadata": {},
   "source": [
    "# 2. Levenshtein\n",
    "buuild a series distance between url and the website url\n",
    "\n",
    "    1. Edit Distance\n",
    "    2. Levenshtein Ratio\n",
    "    3. Jaro/Jaro-Winkler Dsitance(the answers are actually same)"
   ]
  },
  {
   "cell_type": "code",
   "execution_count": 113,
   "id": "mysterious-housing",
   "metadata": {},
   "outputs": [],
   "source": [
    "import Levenshtein"
   ]
  },
  {
   "cell_type": "code",
   "execution_count": 114,
   "id": "working-factory",
   "metadata": {},
   "outputs": [],
   "source": [
    "def build_leven_features(df):\n",
    "    processed_features = []\n",
    "    for index, row in df.iterrows():\n",
    "        str1 = row['url']\n",
    "        str2 = row['website']\n",
    "        row['edit-dis'] = Levenshtein.distance(str1, str2)\n",
    "        row['leven-ratio'] = Levenshtein.ratio(str1, str2)\n",
    "        row['jw-dis'] = Levenshtein.jaro_winkler(str1, str2)\n",
    "        processed_features.append(row)\n",
    "    back_data = pd.DataFrame(processed_features).drop(['url', 'website'], axis=1)\n",
    "    return back_data"
   ]
  },
  {
   "cell_type": "code",
   "execution_count": 117,
   "id": "typical-norman",
   "metadata": {},
   "outputs": [],
   "source": [
    "leven_features = build_leven_features(potent_dp_links)\n",
    "data = pd.concat([data, leven_features], axis = 1, ignore_index = False)\n",
    "data.to_csv(\"featured_data.csv\", index=False)\n",
    "data_features = data.drop(['url', 'website'], axis=1)"
   ]
  },
  {
   "cell_type": "code",
   "execution_count": 29,
   "id": "emerging-jewel",
   "metadata": {},
   "outputs": [],
   "source": [
    "data = pd.read_csv(\"featured_data.csv\", )\n",
    "potent_dp_links = pd.read_csv(\"potentlist.csv\", names=[\"url\", \"website\"])\n",
    "data_features = data.drop(['url', 'website'], axis=1)"
   ]
  },
  {
   "cell_type": "code",
   "execution_count": 30,
   "id": "owned-charlotte",
   "metadata": {},
   "outputs": [],
   "source": [
    "import seaborn as sns\n",
    "from sklearn.metrics import confusion_matrix\n",
    "import matplotlib.pyplot as plt\n",
    "from sklearn.preprocessing import normalize\n",
    "from hdbscan import HDBSCAN\n",
    "\n",
    "%matplotlib inline"
   ]
  },
  {
   "cell_type": "code",
   "execution_count": 31,
   "id": "associate-causing",
   "metadata": {},
   "outputs": [],
   "source": [
    "data_features.describe()\n",
    "data_features = data_features[['path_len','num_sign','num_upper_char','num_lower_char','num_number','edit-dis','leven-ratio','jw-dis']]"
   ]
  },
  {
   "cell_type": "code",
   "execution_count": 32,
   "id": "coated-truth",
   "metadata": {},
   "outputs": [
    {
     "data": {
      "text/plain": [
       "<AxesSubplot:>"
      ]
     },
     "execution_count": 32,
     "metadata": {},
     "output_type": "execute_result"
    },
    {
     "data": {
      "image/png": "[encoded data removed]",
      "text/plain": [
       "<Figure size 864x648 with 2 Axes>"
      ]
     },
     "metadata": {
      "needs_background": "light"
     },
     "output_type": "display_data"
    }
   ],
   "source": [
    "dfData = abs(pd.DataFrame(data_features).corr())\n",
    "plt.subplots(figsize=(12, 9)) # 设置画面大小\n",
    "sns.heatmap(dfData, annot=True, vmax=1, square=True, cmap=\"Blues\")"
   ]
  },
  {
   "cell_type": "code",
   "execution_count": 42,
   "id": "broke-bracelet",
   "metadata": {},
   "outputs": [
    {
     "name": "stdout",
     "output_type": "stream",
     "text": [
      "Matrix of PCs: (2552, 3)\n",
      "Data matrix: (2552, 8)\n",
      "3 singular values: [7.08981557 3.05313714 2.22082397]\n"
     ]
    }
   ],
   "source": [
    "data_features = normalize(data_features, axis=1)\n",
    "from sklearn.decomposition import PCA\n",
    "pca = PCA(n_components=3)\n",
    "# pca = PCA(tol=10)\n",
    "\n",
    "pca_data = pca.fit_transform(data_features)\n",
    "print('Matrix of PCs: %s' % str(pca_data.shape))\n",
    "print('Data matrix: %s' % str(data_features.shape))\n",
    "print('%d singular values: %s' % (pca.singular_values_.shape[0], str(pca.singular_values_)))"
   ]
  },
  {
   "cell_type": "markdown",
   "id": "stunning-designation",
   "metadata": {},
   "source": [
    "# Clustering"
   ]
  },
  {
   "cell_type": "markdown",
   "id": "stainless-composition",
   "metadata": {},
   "source": [
    "## DBSCAN"
   ]
  },
  {
   "cell_type": "code",
   "execution_count": 43,
   "id": "electric-velvet",
   "metadata": {},
   "outputs": [
    {
     "name": "stdout",
     "output_type": "stream",
     "text": [
      "Number of clusters: 178\n",
      "Number of clusters: 163\n"
     ]
    }
   ],
   "source": [
    "# test dbscan\n",
    "from sklearn.cluster import DBSCAN\n",
    "from sklearn.utils import parallel_backend\n",
    "\n",
    "with parallel_backend('threading'):\n",
    "    clusterer = DBSCAN(eps=0.005, min_samples=5, n_jobs=10, metric='euclidean')\n",
    "    cluster_labels = clusterer.fit(data_features)\n",
    "potent_dp_links['cluster_dbscan'] = pd.Series(cluster_labels.labels_).values\n",
    "print('Number of clusters: %d' % len(set(cluster_labels.labels_)))\n",
    "\n",
    "with parallel_backend('threading'):\n",
    "    clusterer = DBSCAN(eps=0.005, min_samples=5, n_jobs=10, metric='euclidean')\n",
    "    cluster_labels = clusterer.fit(pca_data)\n",
    "potent_dp_links['pca_cluster_dbscan'] = pd.Series(cluster_labels.labels_).values\n",
    "print('Number of clusters: %d' % len(set(cluster_labels.labels_))) \n"
   ]
  },
  {
   "cell_type": "markdown",
   "id": "equivalent-values",
   "metadata": {},
   "source": [
    "## HDBSCAN"
   ]
  },
  {
   "cell_type": "code",
   "execution_count": 44,
   "id": "sensitive-recall",
   "metadata": {},
   "outputs": [],
   "source": [
    "clusterer = HDBSCAN(min_cluster_size=5, metric='euclidean')\n",
    "cluster_labels = clusterer.fit_predict(data_features)\n",
    "pca_cluster_labels = clusterer.fit_predict(pca_data)\n",
    "\n",
    "potent_dp_links['cluster_hdbscan'] = pd.Series(cluster_labels).values\n",
    "potent_dp_links['pca_cluster_hdbscan'] = pd.Series(pca_cluster_labels).values"
   ]
  },
  {
   "cell_type": "code",
   "execution_count": 45,
   "id": "floral-mouse",
   "metadata": {},
   "outputs": [
    {
     "name": "stdout",
     "output_type": "stream",
     "text": [
      "HDBSCAN without PCA: \n",
      " Number of clusters: 177\n",
      "HDBSCAN wit PCA: \n",
      " Number of clusters: 175\n"
     ]
    }
   ],
   "source": [
    "print('HDBSCAN without PCA: \\n Number of clusters: %s' % len(potent_dp_links['cluster_hdbscan'].value_counts()))\n",
    "# print('cluster_hdbscan.value_counts(): \\n %s' % potent_dp_links['cluster_hdbscan'].value_counts().to_string())\n",
    "\n",
    "print('HDBSCAN wit PCA: \\n Number of clusters: %s' % len(potent_dp_links['pca_cluster_hdbscan'].value_counts()))\n",
    "# print('cluster_hdbscan.value_counts(): \\n %s' % potent_dp_links['cluster_hdbscan'].value_counts().to_string())"
   ]
  },
  {
   "cell_type": "code",
   "execution_count": 46,
   "id": "involved-acceptance",
   "metadata": {},
   "outputs": [
    {
     "name": "stdout",
     "output_type": "stream",
     "text": [
      "HDBSCAN without PCA: \n",
      " Number of clusters: 238\n",
      "HDBSCAN wit PCA: \n",
      " Number of clusters: 213\n",
      "DBSCAN without PCA: \n",
      " Number of clusters: 240\n",
      "DBSCAN wit PCA: \n",
      " Number of clusters: 223\n"
     ]
    }
   ],
   "source": [
    "hdbscan = HDBSCAN(min_cluster_size=5, min_samples=4, cluster_selection_epsilon=0.001, metric='euclidean')\n",
    "dbscan = DBSCAN(eps=0.001, min_samples=4, metric='euclidean')\n",
    "\n",
    "hdbscan_labels = hdbscan.fit_predict(data_features)\n",
    "pca_hdbscan_labels = hdbscan.fit_predict(pca_data)\n",
    "dbscan_labels = dbscan.fit_predict(data_features)\n",
    "pca_dbscan_labels = dbscan.fit_predict(pca_data)\n",
    "\n",
    "potent_dp_links['cluster_hdbscan'] = pd.Series(hdbscan_labels).values\n",
    "potent_dp_links['pca_cluster_hdbscan'] = pd.Series(pca_hdbscan_labels).values\n",
    "potent_dp_links['cluster_dbscan'] = pd.Series(dbscan_labels).values\n",
    "potent_dp_links['pca_cluster_dbscan'] = pd.Series(pca_dbscan_labels).values\n",
    "\n",
    "print('HDBSCAN without PCA: \\n Number of clusters: %s' % len(potent_dp_links['cluster_hdbscan'].value_counts()))\n",
    "print('HDBSCAN wit PCA: \\n Number of clusters: %s' % len(potent_dp_links['pca_cluster_hdbscan'].value_counts()))\n",
    "print('DBSCAN without PCA: \\n Number of clusters: %s' % len(potent_dp_links['cluster_dbscan'].value_counts()))\n",
    "print('DBSCAN wit PCA: \\n Number of clusters: %s' % len(potent_dp_links['pca_cluster_dbscan'].value_counts()))"
   ]
  },
  {
   "cell_type": "code",
   "execution_count": 47,
   "id": "friendly-vanilla",
   "metadata": {},
   "outputs": [
    {
     "data": {
      "text/html": [
       "<div>\n",
       "<style scoped>\n",
       "    .dataframe tbody tr th:only-of-type {\n",
       "        vertical-align: middle;\n",
       "    }\n",
       "\n",
       "    .dataframe tbody tr th {\n",
       "        vertical-align: top;\n",
       "    }\n",
       "\n",
       "    .dataframe thead th {\n",
       "        text-align: right;\n",
       "    }\n",
       "</style>\n",
       "<table border=\"1\" class=\"dataframe\">\n",
       "  <thead>\n",
       "    <tr style=\"text-align: right;\">\n",
       "      <th></th>\n",
       "      <th>url</th>\n",
       "      <th>website</th>\n",
       "      <th>cluster_dbscan</th>\n",
       "      <th>pca_cluster_dbscan</th>\n",
       "      <th>cluster_hdbscan</th>\n",
       "      <th>pca_cluster_hdbscan</th>\n",
       "    </tr>\n",
       "  </thead>\n",
       "  <tbody>\n",
       "    <tr>\n",
       "      <th>0</th>\n",
       "      <td>data.eastmoney.com/report/</td>\n",
       "      <td>stock.eastmoney.com</td>\n",
       "      <td>0</td>\n",
       "      <td>0</td>\n",
       "      <td>173</td>\n",
       "      <td>120</td>\n",
       "    </tr>\n",
       "    <tr>\n",
       "      <th>1</th>\n",
       "      <td>data.eastmoney.com/report/zw_stock.jshtml?enco...</td>\n",
       "      <td>stock.eastmoney.com</td>\n",
       "      <td>-1</td>\n",
       "      <td>-1</td>\n",
       "      <td>3</td>\n",
       "      <td>15</td>\n",
       "    </tr>\n",
       "    <tr>\n",
       "      <th>2</th>\n",
       "      <td>data.eastmoney.com/report/zw_stock.jshtml?enco...</td>\n",
       "      <td>stock.eastmoney.com</td>\n",
       "      <td>-1</td>\n",
       "      <td>-1</td>\n",
       "      <td>3</td>\n",
       "      <td>15</td>\n",
       "    </tr>\n",
       "    <tr>\n",
       "      <th>3</th>\n",
       "      <td>data.eastmoney.com/report/</td>\n",
       "      <td>stock.eastmoney.com</td>\n",
       "      <td>0</td>\n",
       "      <td>0</td>\n",
       "      <td>173</td>\n",
       "      <td>120</td>\n",
       "    </tr>\n",
       "    <tr>\n",
       "      <th>4</th>\n",
       "      <td>data.eastmoney.com/zjlx/detail.html</td>\n",
       "      <td>stock.eastmoney.com</td>\n",
       "      <td>1</td>\n",
       "      <td>1</td>\n",
       "      <td>222</td>\n",
       "      <td>196</td>\n",
       "    </tr>\n",
       "  </tbody>\n",
       "</table>\n",
       "</div>"
      ],
      "text/plain": [
       "                                                 url              website  \\\n",
       "0                         data.eastmoney.com/report/  stock.eastmoney.com   \n",
       "1  data.eastmoney.com/report/zw_stock.jshtml?enco...  stock.eastmoney.com   \n",
       "2  data.eastmoney.com/report/zw_stock.jshtml?enco...  stock.eastmoney.com   \n",
       "3                         data.eastmoney.com/report/  stock.eastmoney.com   \n",
       "4                data.eastmoney.com/zjlx/detail.html  stock.eastmoney.com   \n",
       "\n",
       "   cluster_dbscan  pca_cluster_dbscan  cluster_hdbscan  pca_cluster_hdbscan  \n",
       "0               0                   0              173                  120  \n",
       "1              -1                  -1                3                   15  \n",
       "2              -1                  -1                3                   15  \n",
       "3               0                   0              173                  120  \n",
       "4               1                   1              222                  196  "
      ]
     },
     "execution_count": 47,
     "metadata": {},
     "output_type": "execute_result"
    }
   ],
   "source": [
    "potent_dp_links.head()"
   ]
  },
  {
   "cell_type": "code",
   "execution_count": 48,
   "id": "recent-contact",
   "metadata": {},
   "outputs": [
    {
     "name": "stdout",
     "output_type": "stream",
     "text": [
      "Silhouette score: 0.74536\n",
      "Silhouette score: 0.74862\n",
      "Silhouette score: 0.63687\n",
      "Silhouette score: 0.66851\n"
     ]
    }
   ],
   "source": [
    "# Silhouette Coefficient\n",
    "\n",
    "from sklearn import metrics\n",
    "\n",
    "s1 = metrics.silhouette_score(data_features, potent_dp_links['cluster_hdbscan'], metric='euclidean')\n",
    "s2 = metrics.silhouette_score(pca_data, potent_dp_links['pca_cluster_hdbscan'], metric='euclidean')\n",
    "s3 = metrics.silhouette_score(data_features, potent_dp_links['cluster_dbscan'], metric='euclidean')\n",
    "s4 = metrics.silhouette_score(pca_data, potent_dp_links['pca_cluster_dbscan'], metric='euclidean')\n",
    "print('Silhouette score: %.5f' % s1)\n",
    "print('Silhouette score: %.5f' % s2)\n",
    "print('Silhouette score: %.5f' % s3)\n",
    "print('Silhouette score: %.5f' % s4)"
   ]
  },
  {
   "cell_type": "code",
   "execution_count": 49,
   "id": "shaped-manhattan",
   "metadata": {},
   "outputs": [
    {
     "name": "stdout",
     "output_type": "stream",
     "text": [
      "Calinski-Harabaz Index: 100.756\n",
      "Calinski-Harabaz Index: 118.342\n",
      "Calinski-Harabaz Index: 42.331\n",
      "Calinski-Harabaz Index: 56.435\n"
     ]
    }
   ],
   "source": [
    "# Calinski-Harabaz Index\n",
    "\n",
    "from sklearn import metrics\n",
    "    \n",
    "chi1 = metrics.calinski_harabasz_score(data_features, potent_dp_links['cluster_hdbscan'])\n",
    "chi2 = metrics.calinski_harabasz_score(pca_data, potent_dp_links['pca_cluster_hdbscan'])\n",
    "chi3 = metrics.calinski_harabasz_score(data_features, potent_dp_links['cluster_dbscan'])\n",
    "chi4 = metrics.calinski_harabasz_score(pca_data, potent_dp_links['pca_cluster_dbscan'])\n",
    "\n",
    "print('Calinski-Harabaz Index: %.3f' % chi1)\n",
    "print('Calinski-Harabaz Index: %.3f' % chi2)\n",
    "print('Calinski-Harabaz Index: %.3f' % chi3)\n",
    "print('Calinski-Harabaz Index: %.3f' % chi4)"
   ]
  },
  {
   "cell_type": "code",
   "execution_count": 50,
   "id": "legal-extraction",
   "metadata": {},
   "outputs": [
    {
     "name": "stdout",
     "output_type": "stream",
     "text": [
      "Davies-Bouldin Index: 1.06182\n",
      "Davies-Bouldin Index: 0.99177\n",
      "Davies-Bouldin Index: 0.89275\n",
      "Davies-Bouldin Index: 0.87477\n"
     ]
    }
   ],
   "source": [
    "# Davies-Bouldin Index\n",
    "\n",
    "from sklearn.metrics import davies_bouldin_score\n",
    "\n",
    "dbi1 = davies_bouldin_score(data_features, potent_dp_links['cluster_hdbscan'])\n",
    "print('Davies-Bouldin Index: %.5f' % dbi1)\n",
    "dbi2 = davies_bouldin_score(pca_data, potent_dp_links['pca_cluster_hdbscan'])\n",
    "print('Davies-Bouldin Index: %.5f' % dbi2)\n",
    "dbi3 = davies_bouldin_score(data_features, potent_dp_links['cluster_dbscan'])\n",
    "print('Davies-Bouldin Index: %.5f' % dbi3)\n",
    "dbi4 = davies_bouldin_score(pca_data, potent_dp_links['pca_cluster_dbscan'])\n",
    "print('Davies-Bouldin Index: %.5f' % dbi4)"
   ]
  },
  {
   "cell_type": "code",
   "execution_count": 120,
   "id": "distant-insider",
   "metadata": {},
   "outputs": [
    {
     "name": "stdout",
     "output_type": "stream",
     "text": [
      "Number of clusters: 3, Silhouette score: 0.27955\n",
      "Number of clusters: 160, Silhouette score: 0.57830\n",
      "Number of clusters: 237, Silhouette score: 0.75305\n",
      "Number of clusters: 247, Silhouette score: 0.75713\n",
      "Number of clusters: 248, Silhouette score: 0.75125\n"
     ]
    }
   ],
   "source": [
    "para_min_cluster_size = [2,3,4,5,6,7,8,9,10]\n",
    "para_min_samples = [3,4,5]\n",
    "cluster_selection_epsilon = [0.1,0.01,0.001, 0.0001, 0]\n",
    "for i in cluster_selection_epsilon:\n",
    "    clusterer = hdbscan.HDBSCAN(min_cluster_size=5, min_samples=4, cluster_selection_epsilon=0.001, metric='euclidean')\n",
    "    pca_cluster_labels = clusterer.fit_predict(pca_data)\n",
    "    s4 = metrics.silhouette_score(pca_data, pca_cluster_labels, metric='euclidean')\n",
    "    print('Number of clusters: %s, Silhouette score: %.5f' % \n",
    "          (len(pd.DataFrame(pca_cluster_labels).value_counts()), s4))"
   ]
  },
  {
   "cell_type": "code",
   "execution_count": 41,
   "id": "constitutional-plastic",
   "metadata": {},
   "outputs": [],
   "source": [
    "potent_dp_links.to_csv(\"potent_dp_links_cluster.csv\")"
   ]
  },
  {
   "cell_type": "code",
   "execution_count": null,
   "id": "convenient-marker",
   "metadata": {},
   "outputs": [],
   "source": []
  }
 ],
 "metadata": {
  "kernelspec": {
   "display_name": "Python 3",
   "language": "python",
   "name": "python3"
  },
  "language_info": {
   "codemirror_mode": {
    "name": "ipython",
    "version": 3
   },
   "file_extension": ".py",
   "mimetype": "text/x-python",
   "name": "python",
   "nbconvert_exporter": "python",
   "pygments_lexer": "ipython3",
   "version": "3.8.8"
  }
 },
 "nbformat": 4,
 "nbformat_minor": 5
}
